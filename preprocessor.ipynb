{
 "cells": [
  {
   "cell_type": "code",
   "execution_count": 3,
   "metadata": {
    "collapsed": false,
    "deletable": true,
    "editable": true
   },
   "outputs": [
    {
     "name": "stdout",
     "output_type": "stream",
     "text": [
      "The autotime extension is already loaded. To reload it, use:\n",
      "  %reload_ext autotime\n",
      "time: 6.86 ms\n"
     ]
    }
   ],
   "source": [
    "import numpy as np # linear algebra\n",
    "import pandas as pd # data processing, CSV file I/O (e.g. pd.read_csv)\n",
    "import os\n",
    "# import re\n",
    "# import gc\n",
    "import codecs\n",
    "# import matplotlib.pyplot as plt\n",
    "# import seaborn as sns\n",
    "# import tensorflow as tf\n",
    "# from bs4 import BeautifulSoup\n",
    "# from nltk.corpus import stopwords\n",
    "# from keras.preprocessing.text import Tokenizer\n",
    "\n",
    "# %matplotlib inline\n",
    "%load_ext autotime\n",
    "\n",
    "# pal = sns.color_palette()"
   ]
  },
  {
   "cell_type": "raw",
   "metadata": {
    "collapsed": false,
    "deletable": true,
    "editable": true
   },
   "source": [
    "%%sh\n",
    "\n",
    "[ -f autotime.py ] && echo \"File exist\" || wget https://raw.githubusercontent.com/msampathkumar/ipython-autotime/master/autotime.py\n",
    "\n",
    "# sample of how GLOVE_DATA_FILE\n",
    "\n",
    "# wc data/glove.840B.300d.txt\n",
    "#       2196017 661001572 5646236541 data/glove.840B.300d.txt\n",
    "\n",
    "head -n20 data/glove.840B.300d.txt | awk -F\" \" '{ print $1\"\\t\"$2\"\\t\"$3 }'"
   ]
  },
  {
   "cell_type": "code",
   "execution_count": 4,
   "metadata": {
    "collapsed": false,
    "deletable": true,
    "editable": true
   },
   "outputs": [
    {
     "name": "stdout",
     "output_type": "stream",
     "text": [
      "time: 5.55 ms\n"
     ]
    }
   ],
   "source": [
    "# Paths\n",
    "\n",
    "if os.path.isdir('data'):\n",
    "    QUORA_DATA_DIR = \"data/\"\n",
    "    GLOVE_DATA_DIR = \"data/\"\n",
    "else:\n",
    "    QUORA_DATA_DIR = \"/opt/datasets/quora/\"\n",
    "    GLOVE_DATA_DIR = \"/opt/datasets/glove/\"\n",
    "\n",
    "TRAIN_CSV = QUORA_DATA_DIR + 'train.csv'\n",
    "TEST_CSV = QUORA_DATA_DIR + 'test.csv'\n",
    "\n",
    "glove_840B_300d = GLOVE_DATA_DIR + 'glove.840B.300d.txt'\n",
    "GLOVE_DATA_FILE = glove_840B_300d"
   ]
  },
  {
   "cell_type": "code",
   "execution_count": 5,
   "metadata": {
    "collapsed": false,
    "deletable": true,
    "editable": true
   },
   "outputs": [
    {
     "name": "stdout",
     "output_type": "stream",
     "text": [
      "time: 2.61 ms\n"
     ]
    }
   ],
   "source": [
    "EMBEDDING_DIM = 300\n",
    "MAX_SEQUENCE_LENGTH = 45\n",
    "MAX_NB_WORDS = 200000\n",
    "EMBEDDING_DIM = 300\n",
    "VALIDATION_SPLIT = 0.01"
   ]
  },
  {
   "cell_type": "markdown",
   "metadata": {
    "deletable": true,
    "editable": true
   },
   "source": [
    "# Data Analysis"
   ]
  },
  {
   "cell_type": "code",
   "execution_count": 6,
   "metadata": {
    "collapsed": false,
    "deletable": true,
    "editable": true
   },
   "outputs": [
    {
     "name": "stdout",
     "output_type": "stream",
     "text": [
      "['What is the step by step guide to invest in share market in india?What is the step by step guide to invest in share market?', 'What is the story of Kohinoor (Koh-i-Noor) Diamond?What would happen if the Indian government stole the Kohinoor (Koh-i-Noor) diamond back?', 'How can I increase the speed of my internet connection while using a VPN?How can Internet speed be increased by hacking through DNS?', 'Why am I mentally very lonely? How can I solve it?Find the remainder when [math]23^{24}[/math] is divided by 24,23?', 'Which one dissolve in water quikly sugar, salt, methane and carbon di oxide?Which fish would survive in salt water?', \"Astrology: I am a Capricorn Sun Cap moon and cap rising...what does that say about me?I'm a triple Capricorn (Sun, Moon and ascendant in Capricorn) What does this say about me?\", 'Should I buy tiago?What keeps childern active and far from phone and video games?', 'How can I be a good geologist?What should I do to be a great geologist?', 'When do you use シ instead of し?When do you use \"&\" instead of \"and\"?', 'Motorola (company): Can I hack my Charter Motorolla DCX3400?How do I hack Motorola DCX3400 for free internet?']\n"
     ]
    },
    {
     "data": {
      "text/html": [
       "<div>\n",
       "<table border=\"1\" class=\"dataframe\">\n",
       "  <thead>\n",
       "    <tr style=\"text-align: right;\">\n",
       "      <th></th>\n",
       "      <th>id</th>\n",
       "      <th>qid1</th>\n",
       "      <th>qid2</th>\n",
       "      <th>question1</th>\n",
       "      <th>question2</th>\n",
       "      <th>is_duplicate</th>\n",
       "    </tr>\n",
       "  </thead>\n",
       "  <tbody>\n",
       "    <tr>\n",
       "      <th>0</th>\n",
       "      <td>0</td>\n",
       "      <td>1</td>\n",
       "      <td>2</td>\n",
       "      <td>What is the step by step guide to invest in sh...</td>\n",
       "      <td>What is the step by step guide to invest in sh...</td>\n",
       "      <td>0</td>\n",
       "    </tr>\n",
       "    <tr>\n",
       "      <th>1</th>\n",
       "      <td>1</td>\n",
       "      <td>3</td>\n",
       "      <td>4</td>\n",
       "      <td>What is the story of Kohinoor (Koh-i-Noor) Dia...</td>\n",
       "      <td>What would happen if the Indian government sto...</td>\n",
       "      <td>0</td>\n",
       "    </tr>\n",
       "    <tr>\n",
       "      <th>2</th>\n",
       "      <td>2</td>\n",
       "      <td>5</td>\n",
       "      <td>6</td>\n",
       "      <td>How can I increase the speed of my internet co...</td>\n",
       "      <td>How can Internet speed be increased by hacking...</td>\n",
       "      <td>0</td>\n",
       "    </tr>\n",
       "    <tr>\n",
       "      <th>3</th>\n",
       "      <td>3</td>\n",
       "      <td>7</td>\n",
       "      <td>8</td>\n",
       "      <td>Why am I mentally very lonely? How can I solve...</td>\n",
       "      <td>Find the remainder when [math]23^{24}[/math] i...</td>\n",
       "      <td>0</td>\n",
       "    </tr>\n",
       "    <tr>\n",
       "      <th>4</th>\n",
       "      <td>4</td>\n",
       "      <td>9</td>\n",
       "      <td>10</td>\n",
       "      <td>Which one dissolve in water quikly sugar, salt...</td>\n",
       "      <td>Which fish would survive in salt water?</td>\n",
       "      <td>0</td>\n",
       "    </tr>\n",
       "  </tbody>\n",
       "</table>\n",
       "</div>"
      ],
      "text/plain": [
       "   id  qid1  qid2                                          question1  \\\n",
       "0   0     1     2  What is the step by step guide to invest in sh...   \n",
       "1   1     3     4  What is the story of Kohinoor (Koh-i-Noor) Dia...   \n",
       "2   2     5     6  How can I increase the speed of my internet co...   \n",
       "3   3     7     8  Why am I mentally very lonely? How can I solve...   \n",
       "4   4     9    10  Which one dissolve in water quikly sugar, salt...   \n",
       "\n",
       "                                           question2  is_duplicate  \n",
       "0  What is the step by step guide to invest in sh...             0  \n",
       "1  What would happen if the Indian government sto...             0  \n",
       "2  How can Internet speed be increased by hacking...             0  \n",
       "3  Find the remainder when [math]23^{24}[/math] i...             0  \n",
       "4            Which fish would survive in salt water?             0  "
      ]
     },
     "execution_count": 6,
     "metadata": {},
     "output_type": "execute_result"
    },
    {
     "name": "stdout",
     "output_type": "stream",
     "text": [
      "time: 20.1 s\n"
     ]
    }
   ],
   "source": [
    "df_train = pd.read_csv(TRAIN_CSV)\n",
    "df_test = pd.read_csv(TEST_CSV)\n",
    "\n",
    "# Train Data\n",
    "train_feature_1_string = pd.Series(df_train['question1'].tolist()).astype(str)\n",
    "train_feature_2_string = pd.Series(df_train['question2'].tolist()).astype(str)\n",
    "\n",
    "target = pd.Series(df_train['is_duplicate'].tolist())\n",
    "\n",
    "all_train_qs = train_feature_1_string + train_feature_2_string\n",
    "\n",
    "# Test Data\n",
    "test_feature_1_string = pd.Series(df_test['question1'].tolist()).astype(str)\n",
    "test_feature_2_string = pd.Series(df_test['question2'].tolist()).astype(str)\n",
    "\n",
    "all_test_qs = test_feature_1_string + test_feature_2_string\n",
    "\n",
    "all_qs = all_train_qs + all_test_qs\n",
    "\n",
    "print(all_train_qs.tolist()[:10])\n",
    "\n",
    "df_train.head()"
   ]
  },
  {
   "cell_type": "code",
   "execution_count": 7,
   "metadata": {
    "collapsed": false,
    "deletable": true,
    "editable": true
   },
   "outputs": [
    {
     "data": {
      "text/html": [
       "<div>\n",
       "<table border=\"1\" class=\"dataframe\">\n",
       "  <thead>\n",
       "    <tr style=\"text-align: right;\">\n",
       "      <th></th>\n",
       "      <th>test_id</th>\n",
       "      <th>question1</th>\n",
       "      <th>question2</th>\n",
       "    </tr>\n",
       "  </thead>\n",
       "  <tbody>\n",
       "    <tr>\n",
       "      <th>0</th>\n",
       "      <td>0</td>\n",
       "      <td>How does the Surface Pro himself 4 compare wit...</td>\n",
       "      <td>Why did Microsoft choose core m3 and not core ...</td>\n",
       "    </tr>\n",
       "    <tr>\n",
       "      <th>1</th>\n",
       "      <td>1</td>\n",
       "      <td>Should I have a hair transplant at age 24? How...</td>\n",
       "      <td>How much cost does hair transplant require?</td>\n",
       "    </tr>\n",
       "    <tr>\n",
       "      <th>2</th>\n",
       "      <td>2</td>\n",
       "      <td>What but is the best way to send money from Ch...</td>\n",
       "      <td>What you send money to China?</td>\n",
       "    </tr>\n",
       "    <tr>\n",
       "      <th>3</th>\n",
       "      <td>3</td>\n",
       "      <td>Which food not emulsifiers?</td>\n",
       "      <td>What foods fibre?</td>\n",
       "    </tr>\n",
       "    <tr>\n",
       "      <th>4</th>\n",
       "      <td>4</td>\n",
       "      <td>How \"aberystwyth\" start reading?</td>\n",
       "      <td>How their can I start reading?</td>\n",
       "    </tr>\n",
       "  </tbody>\n",
       "</table>\n",
       "</div>"
      ],
      "text/plain": [
       "   test_id                                          question1  \\\n",
       "0        0  How does the Surface Pro himself 4 compare wit...   \n",
       "1        1  Should I have a hair transplant at age 24? How...   \n",
       "2        2  What but is the best way to send money from Ch...   \n",
       "3        3                        Which food not emulsifiers?   \n",
       "4        4                   How \"aberystwyth\" start reading?   \n",
       "\n",
       "                                           question2  \n",
       "0  Why did Microsoft choose core m3 and not core ...  \n",
       "1        How much cost does hair transplant require?  \n",
       "2                      What you send money to China?  \n",
       "3                                  What foods fibre?  \n",
       "4                     How their can I start reading?  "
      ]
     },
     "execution_count": 7,
     "metadata": {},
     "output_type": "execute_result"
    },
    {
     "name": "stdout",
     "output_type": "stream",
     "text": [
      "time: 11.6 ms\n"
     ]
    }
   ],
   "source": [
    "df_test.head()"
   ]
  },
  {
   "cell_type": "markdown",
   "metadata": {
    "deletable": true,
    "editable": true
   },
   "source": [
    "# Text Analysis"
   ]
  },
  {
   "cell_type": "code",
   "execution_count": 8,
   "metadata": {
    "collapsed": false,
    "deletable": true,
    "editable": true,
    "scrolled": true
   },
   "outputs": [
    {
     "name": "stdout",
     "output_type": "stream",
     "text": [
      "time: 275 ms\n"
     ]
    }
   ],
   "source": [
    "all_qids = df_train.qid1 + df_train.qid2\n",
    "\n",
    "train_qs = df_train.question1 + df_train.question2"
   ]
  },
  {
   "cell_type": "code",
   "execution_count": 9,
   "metadata": {
    "collapsed": false,
    "deletable": true,
    "editable": true
   },
   "outputs": [
    {
     "name": "stdout",
     "output_type": "stream",
     "text": [
      "Total number of question pairs for training: 404290\n",
      "Duplicate pairs: 36.92%\n",
      "Total number of questions in the training data: 404289\n",
      "Number of questions that appear multiple times: 50205\n",
      "Total number of questions in Quora dataset: 2345796\n",
      "time: 1.19 s\n"
     ]
    }
   ],
   "source": [
    "total_ques_pairs = len(df_train)\n",
    "print('Total number of question pairs for training: {}'.format(total_ques_pairs))\n",
    "\n",
    "duplicate_ques_pairs = round(df_train['is_duplicate'].mean()*100, 2)\n",
    "print('Duplicate pairs: {}%'.format(duplicate_ques_pairs))\n",
    "\n",
    "unique_qids = len(np.unique(train_qs.fillna(\"\")))\n",
    "print('Total number of questions in the training data: {}'.format(unique_qids))\n",
    "\n",
    "print('Number of questions that appear multiple times: {}'.format(np.sum(all_qids.value_counts() > 1)))\n",
    "\n",
    "print(\"Total number of questions in Quora dataset: {}\".format(len(all_qs)))"
   ]
  },
  {
   "cell_type": "markdown",
   "metadata": {},
   "source": [
    "## Text Processing\n",
    "\n",
    "* TODO: Check the AVG length of english words and filter them out in GLOVE DATA\n",
    "* TODO: Check the AVG length of english words and filter them out in INPUT DATA\n"
   ]
  },
  {
   "cell_type": "code",
   "execution_count": 116,
   "metadata": {
    "collapsed": false
   },
   "outputs": [
    {
     "name": "stdout",
     "output_type": "stream",
     "text": [
      "time: 36.5 ms\n"
     ]
    }
   ],
   "source": [
    "import string\n",
    "import codecs\n",
    "\n",
    "\n",
    "ACC_ALPHA_NUM_CHARS = set(map(ord, string.ascii_lowercase +  string.digits + ' ')) # adding space here\n",
    "ACC_SPECIAL_CHARS = set(map(ord, '''~!@#$%^&*()_+`-=[]\\{}|;':\"<>?,./<\\/>|?'\"+=-*&^%$#@!_.;:{}()[]~!@#$%^&*()_+''')) \n",
    "\n",
    "\n",
    "# TODO: Split char processor to char_selector & char_procssor\n",
    "\n",
    "def char_processor(text):\n",
    "    \"\"\"String charecters are processed based on globally defined ACC_* variables.\n",
    "\n",
    "    Args:\n",
    "        text(string): input string\n",
    "\n",
    "    Features:\n",
    "        * clears trailing or heading space or tabs\n",
    "        * converts text to lower case\n",
    "        * adds appends and prepends spaces to all special charecters\n",
    "    \"\"\"\n",
    "    new_text = []\n",
    "    new_text_append = new_text.append\n",
    "    for char in text.strip().lower():\n",
    "        if ord(char) in ACC_ALPHA_NUM_CHARS:\n",
    "            new_text_append(char)\n",
    "        elif ord(char) in ACC_SPECIAL_CHARS:\n",
    "            new_text_append(\" \" + char + \" \")\n",
    "    return ''.join(new_text)\n",
    "\n",
    "\n",
    "def word_selector(word):\n",
    "    \"\"\"Return True or False, to tell if we should select the word.\n",
    "    \n",
    "    Args:\n",
    "        word(string): an array of charecters\n",
    "        \n",
    "    Selection Criteria:\n",
    "        * If len == 1, has to be one of accepted ACC_* variables.\n",
    "        * If len > 1, has to be lower case & alpha-numeric (Eg: i3, m5, 1plus, 3g,..)\n",
    "    \"\"\"\n",
    "    if (len(word) == 1 and (ord(word) in ACC_ALPHA_NUM_CHARS or ord(word) in ACC_SPECIAL_CHARS))\\\n",
    "       or (key.islower() and len(key) > 1 and key.isalnum()):\n",
    "        return True\n",
    "    else:\n",
    "        return Flase\n",
    "\n",
    "\n",
    "def glove_embeddings():\n",
    "    print('Indexing word vectors.')\n",
    "    embeddings_index = dict()\n",
    "    with codecs.open(GLOVE_DATA_FILE, encoding='utf-8') as f:\n",
    "        for line in f:\n",
    "            key, *vector = line.split(' ')\n",
    "            if word_selector(key):\n",
    "                embeddings_index[key] = np.asarray(vector, dtype='float32')\n",
    "    return embeddings_index\n",
    "\n",
    "\n",
    "def text_processor(text):\n",
    "    return [word for word in text.split() if word_selector(word)]\n",
    "\n",
    "\n",
    "def micro_procesor(text):\n",
    "    return char_processor(text)\n"
   ]
  },
  {
   "cell_type": "code",
   "execution_count": 156,
   "metadata": {
    "collapsed": false
   },
   "outputs": [
    {
     "name": "stdout",
     "output_type": "stream",
     "text": [
      "\n",
      "How does the Surface Pro himself 4 compare with iPad Pro?Why did Microsoft choose core\n",
      "m3 and not core i3 home Surface Pro 4? as/df\\asdf\\ta?sd|asdf.as\n",
      "\n",
      "--------------------------------------------------\n",
      "how does the surface pro himself 4 compare with ipad pro ? why did microsoft choose corem3 and not core i3 home surface pro 4 ?  as / df \\ asdf \\ ta ? sd | asdf . as\n",
      "--------------------------------------------------\n",
      "['how', 'does', 'the', 'surface', 'pro', 'himself', '4', 'compare', 'with', 'ipad', 'pro', '?', 'why', 'did', 'microsoft', 'choose', 'corem3', 'and', 'not', 'core', 'i3', 'home', 'surface', 'pro', '4', '?', 'as', '/', 'df', '\\\\', 'asdf', '\\\\', 'ta', '?', 'sd', '|', 'asdf', '.', 'as']\n",
      "--------------------------------------------------\n",
      "time: 7.25 ms\n"
     ]
    }
   ],
   "source": [
    "## Testing\n",
    "\n",
    "msg = r'''\n",
    "How does the Surface Pro himself 4 compare with iPad Pro?Why did Microsoft choose core\n",
    "m3 and not core i3 home Surface Pro 4? as/df\\asdf\\ta?sd|asdf.as\n",
    "'''\n",
    "\n",
    "print(msg)\n",
    "print('--' * 25)\n",
    "msg = micro_procesor(msg)\n",
    "print(msg)\n",
    "print('--' * 25)\n",
    "lows = text_processor(msg)\n",
    "print(lows)\n",
    "print('--' * 25)"
   ]
  },
  {
   "cell_type": "code",
   "execution_count": 125,
   "metadata": {
    "collapsed": false,
    "deletable": true,
    "editable": true,
    "scrolled": true
   },
   "outputs": [
    {
     "name": "stdout",
     "output_type": "stream",
     "text": [
      "Skipped to save some time!\n",
      "time: 4.31 ms\n"
     ]
    }
   ],
   "source": [
    "if ('embeddings_index' not in dir()):\n",
    "    print('Indexing word vectors.')\n",
    "    embeddings_index = glove_embeddings()\n",
    "    print('Found %s word vectors.' % len(embeddings_index))\n",
    "\n",
    "else:\n",
    "    print('Skipped to save some time!')"
   ]
  },
  {
   "cell_type": "code",
   "execution_count": 126,
   "metadata": {
    "collapsed": false
   },
   "outputs": [
    {
     "name": "stdout",
     "output_type": "stream",
     "text": [
      "time: 2.55 ms\n"
     ]
    }
   ],
   "source": [
    "PAD_EMB = '<PAD>'\n",
    "embeddings_index[PAD_EMB] = np.zeros(300, dtype=float)"
   ]
  },
  {
   "cell_type": "raw",
   "metadata": {
    "collapsed": false,
    "deletable": true,
    "editable": true
   },
   "source": [
    "words_corpus = ''\n",
    "\n",
    "for msg in all_test_qs:\n",
    "    print(msg)\n",
    "    print(text_processor(micro_procesor(msg)))\n",
    "    break"
   ]
  },
  {
   "cell_type": "raw",
   "metadata": {},
   "source": [
    "msg"
   ]
  },
  {
   "cell_type": "code",
   "execution_count": 87,
   "metadata": {
    "collapsed": false,
    "deletable": true,
    "editable": true
   },
   "outputs": [
    {
     "data": {
      "text/plain": [
       "('What is the best medication equation erectile dysfunction?How do I out get rid of Erectile Dysfunction?',\n",
       " 'what is the best medication equation erectile dysfunction ? how do i out get rid of erectile dysfunction ? ')"
      ]
     },
     "execution_count": 87,
     "metadata": {},
     "output_type": "execute_result"
    },
    {
     "name": "stdout",
     "output_type": "stream",
     "text": [
      "time: 4.31 ms\n"
     ]
    }
   ],
   "source": [
    "msg = 'What is the best medication equation erectile dysfunction?How do I out get rid of Erectile Dysfunction?'\n",
    "\n",
    "msg, text_processor(msg)"
   ]
  },
  {
   "cell_type": "code",
   "execution_count": 131,
   "metadata": {
    "collapsed": false,
    "deletable": true,
    "editable": true
   },
   "outputs": [
    {
     "name": "stdout",
     "output_type": "stream",
     "text": [
      "time: 8.55 ms\n"
     ]
    }
   ],
   "source": [
    "l = [\"just say a word\",\"of some length\"]\n",
    "ll = list(map(lambda l: l.split(\" \"), l))\n",
    "seq_length = 5\n",
    "ll\n",
    "e = {\"just\": [0,0,0,0,1],\n",
    "     \"say\" : [0,0,0,1,1],\n",
    "     \"a\" : [0,1,1,1,0],\n",
    "     \"word\" : [1,0,0,1,0],\n",
    "     \"of\" : [0,1,0,1,0],\n",
    "     \"some\" : [0,1,0,1,0],\n",
    "     \"length\" : [0,0,1,1,0],\n",
    "     '<PAD>': [0,0,0,0,0]\n",
    "    }"
   ]
  },
  {
   "cell_type": "code",
   "execution_count": 165,
   "metadata": {
    "collapsed": false,
    "deletable": true,
    "editable": true,
    "scrolled": false
   },
   "outputs": [
    {
     "name": "stdout",
     "output_type": "stream",
     "text": [
      "time: 22 ms\n"
     ]
    }
   ],
   "source": [
    "# list of words --> lows\n",
    "\n",
    "from pprint import pprint as pp\n",
    "\n",
    "from numpy import array\n",
    "\n",
    "def lows_padding(list_of_words, seq_length=5, append=True):\n",
    "    \"\"\"Pads/slices given bag of words for specified length.\"\"\"\n",
    "    if len(list_of_words) == seq_length:\n",
    "        return list_of_words\n",
    "    elif len(list_of_words) > seq_length:\n",
    "        return list_of_words[:seq_length]\n",
    "    # else:\n",
    "    tmp = ['<PAD>' for i in range(seq_length - len(list_of_words))]\n",
    "    if append:\n",
    "        return list_of_words + tmp\n",
    "    return  tmp + list_of_words\n",
    "\n",
    "def lows_embedding(list_of_words, serializer):\n",
    "    \"\"\"To serializer/string Tokenize the list of words.\"\"\"\n",
    "    alist = []\n",
    "    for word in list_of_words:\n",
    "        try:\n",
    "            alist.append(serializer[word])\n",
    "        except KeyError:\n",
    "            alist.append(serializer[PAD_EMB])\n",
    "    return array(alist)\n",
    "\n",
    "def lows_transformer(list_of_words, serializer, seq_length, append):\n",
    "    \"\"\"To pad the given list of words and serialiase them.\"\"\"\n",
    "    return lows_embedding(lows_padding(list_of_words, seq_length, append),\n",
    "                          serializer)\n",
    "\n",
    "bag_of_lows_transformer = lambda list_of_words: lows_transformer(list_of_words, serializer=embeddings_index,\n",
    "                                                                 seq_length=4, append=True)\n",
    "\n",
    "game = list(map(bag_of_lows_transformer, ll))"
   ]
  },
  {
   "cell_type": "code",
   "execution_count": 171,
   "metadata": {
    "collapsed": false,
    "deletable": true,
    "editable": true,
    "scrolled": false
   },
   "outputs": [
    {
     "name": "stdout",
     "output_type": "stream",
     "text": [
      "\n",
      "How does the Surface Pro himself 4 compare with iPad Pro?Why did Microsoft choose core\n",
      "m3 and not core i3 home Surface Pro 4? as/df\\asdf\\ta?sd|asdf.as\n",
      "\n",
      "--------------------------------------------------\n",
      "how does the surface pro himself 4 compare with ipad pro ? why did microsoft choose corem3 and not core i3 home surface pro 4 ?  as / df \\ asdf \\ ta ? sd | asdf . as\n",
      "--------------------------------------------------\n",
      "['how', 'does', 'the', 'surface', 'pro', 'himself', '4', 'compare', 'with', 'ipad', 'pro', '?', 'why', 'did', 'microsoft', 'choose', 'corem3', 'and', 'not', 'core', 'i3', 'home', 'surface', 'pro', '4', '?', 'as', '/', 'df', '\\\\', 'asdf', '\\\\', 'ta', '?', 'sd', '|', 'asdf', '.', 'as']\n",
      "--------------------------------------------------\n",
      "['how', 'does', 'the', 'surface', 'pro', 'himself', '4', 'compare', 'with', 'ipad', 'pro', '?', 'why', 'did', 'microsoft', 'choose', 'corem3', 'and', 'not', 'core', 'i3', 'home', 'surface', 'pro', '4', '?', 'as', '/', 'df', '\\\\', 'asdf', '\\\\', 'ta', '?', 'sd', '|', 'asdf', '.', 'as', '<PAD>', '<PAD>', '<PAD>', '<PAD>', '<PAD>', '<PAD>', '<PAD>', '<PAD>', '<PAD>', '<PAD>', '<PAD>']\n",
      "--------------------------------------------------\n",
      "[[-0.23205     0.47468001 -0.38264    ...,  0.33177999  0.31545001  0.37972   ]\n",
      " [-0.13563     0.33217001 -0.36019999 ..., -0.17296     0.21675999\n",
      "   0.22205999]\n",
      " [ 0.27204001 -0.06203    -0.1884     ...,  0.13015001 -0.18317001  0.1323    ]\n",
      " ..., \n",
      " [ 0.          0.          0.         ...,  0.          0.          0.        ]\n",
      " [ 0.          0.          0.         ...,  0.          0.          0.        ]\n",
      " [ 0.          0.          0.         ...,  0.          0.          0.        ]]\n",
      "(50, 300)\n",
      "--------------------------------------------------\n",
      "time: 19.4 ms\n"
     ]
    }
   ],
   "source": [
    "## Testing\n",
    "\n",
    "msg = r'''\n",
    "How does the Surface Pro himself 4 compare with iPad Pro?Why did Microsoft choose core\n",
    "m3 and not core i3 home Surface Pro 4? as/df\\asdf\\ta?sd|asdf.as\n",
    "'''\n",
    "\n",
    "print(msg)\n",
    "print('--' * 25)\n",
    "msg = micro_procesor(msg)\n",
    "print(msg)\n",
    "print('--' * 25)\n",
    "lows = text_processor(msg)\n",
    "print(lows)\n",
    "print('--' * 25)\n",
    "lows = lows_padding(lows, append=True, seq_length=50)\n",
    "print(lows)\n",
    "print('--' * 25)\n",
    "lows = lows_embedding(lows, embeddings_index)\n",
    "print(lows)\n",
    "print(lows.shape)\n",
    "print('--' * 25)\n",
    "\n",
    "\n",
    "\n",
    "question_transformer = lambda msg: lows_embedding(\n",
    "                                                lows_padding(\n",
    "                                                    text_processor(\n",
    "                                                        micro_procesor(msg)\n",
    "                                                    ),\n",
    "                                                    append=True,\n",
    "                                                    seq_length=50),\n",
    "                                                embeddings_index)"
   ]
  },
  {
   "cell_type": "code",
   "execution_count": 172,
   "metadata": {
    "collapsed": false,
    "scrolled": true
   },
   "outputs": [
    {
     "data": {
      "text/plain": [
       "(\"Astrology: I am a Capricorn Sun Cap moon and cap rising...what does that say about me?I'm a triple Capricorn (Sun, Moon and ascendant in Capricorn) What does this say about me?How are the two wheeler insurance from Bharti Axa insurance?I admire I am considering of buying insurance from them\",\n",
       " array([[ 0.21094   ,  0.59290999,  0.26559001, ..., -0.28240001,\n",
       "          0.81332999, -0.38316   ],\n",
       "        [ 0.008746  ,  0.33214   , -0.29175001, ..., -0.28676999,\n",
       "         -0.22663   , -0.05087   ],\n",
       "        [ 0.18732999,  0.40595001, -0.51174003, ...,  0.16495   ,\n",
       "          0.18757001,  0.53873998],\n",
       "        ..., \n",
       "        [ 0.19375999, -0.34272   , -0.37279999, ..., -0.51226002,\n",
       "          0.28685999, -0.38719001],\n",
       "        [ 0.37661999,  0.3118    , -0.25503999, ..., -0.030757  ,\n",
       "         -0.13600001, -0.47569999],\n",
       "        [-0.57073998,  0.42093   , -0.37584999, ..., -0.035666  ,\n",
       "          0.46285   ,  0.019142  ]], dtype=float32))"
      ]
     },
     "execution_count": 172,
     "metadata": {},
     "output_type": "execute_result"
    },
    {
     "name": "stdout",
     "output_type": "stream",
     "text": [
      "time: 7.51 ms\n"
     ]
    }
   ],
   "source": [
    "all_qs[5], question_transformer(all_qs[5])"
   ]
  },
  {
   "cell_type": "code",
   "execution_count": 173,
   "metadata": {
    "collapsed": false,
    "scrolled": true
   },
   "outputs": [
    {
     "name": "stdout",
     "output_type": "stream",
     "text": [
      "time: 1.67 ms\n"
     ]
    }
   ],
   "source": [
    "sample = all_qs[:500]\n",
    "\n"
   ]
  },
  {
   "cell_type": "code",
   "execution_count": 174,
   "metadata": {
    "collapsed": false
   },
   "outputs": [
    {
     "data": {
      "text/plain": [
       "0      [[-0.038548, 0.54252, -0.21843, -0.18855, 0.07...\n",
       "1      [[-0.0385480001569, 0.542519986629, -0.2184299...\n",
       "2      [[-0.232050001621, 0.474680006504, -0.38264000...\n",
       "3      [[-0.177389994264, 0.371549993753, -0.38040000...\n",
       "4      [[0.229369997978, 0.121559999883, 0.0934149995...\n",
       "5      [[0.21094, 0.59291, 0.26559, 0.37571, 0.51553,...\n",
       "6      [[-0.0130479997024, 0.0663049966097, -0.186749...\n",
       "7      [[-0.232050001621, 0.474680006504, -0.38264000...\n",
       "8      [[0.204999998212, 0.300570011139, -0.302590012...\n",
       "9      [[-0.0632240027189, 0.236330002546, 0.44685998...\n",
       "10     [[-0.351429998875, 0.794250011444, -0.16877999...\n",
       "11     [[-0.23205, 0.47468, -0.38264, 0.0022248, -0.1...\n",
       "12     [[-0.0385480001569, 0.542519986629, -0.2184299...\n",
       "13     [[-0.0385480001569, 0.542519986629, -0.2184299...\n",
       "14     [[-0.038548, 0.54252, -0.21843, -0.18855, 0.07...\n",
       "15     [[-0.0385480001569, 0.542519986629, -0.2184299...\n",
       "16     [[-0.0385480001569, 0.542519986629, -0.2184299...\n",
       "17     [[-0.17739, 0.37155, -0.3804, -0.22554, -0.066...\n",
       "18     [[-0.177389994264, 0.371549993753, -0.38040000...\n",
       "19     [[0.229369997978, 0.121559999883, 0.0934149995...\n",
       "20     [[-0.177389994264, 0.371549993753, -0.38040000...\n",
       "21     [[-0.0385480001569, 0.542519986629, -0.2184299...\n",
       "22     [[-0.0385480001569, 0.542519986629, -0.2184299...\n",
       "23     [[-0.232050001621, 0.474680006504, -0.38264000...\n",
       "24     [[-0.0385480001569, 0.542519986629, -0.2184299...\n",
       "25     [[-0.038548, 0.54252, -0.21843, -0.18855, 0.07...\n",
       "26     [[-0.0385480001569, 0.542519986629, -0.2184299...\n",
       "27     [[-0.135629996657, 0.332170009613, -0.36019998...\n",
       "28     [[-0.0385480001569, 0.542519986629, -0.2184299...\n",
       "29     [[-0.23205, 0.47468, -0.38264, 0.0022248, -0.1...\n",
       "                             ...                        \n",
       "470    [[0.08649, 0.14503, -0.4902, 0.34224, 0.36343,...\n",
       "471    [[-0.0849609971046, 0.501999974251, 0.00238230...\n",
       "472    [[-0.0849609971046, 0.501999974251, 0.00238230...\n",
       "473    [[-0.23205, 0.47468, -0.38264, 0.0022248, -0.1...\n",
       "474    [[0.10528, 0.44863, 0.55631, -0.15466, -0.0726...\n",
       "475    [[0.0356700010598, 0.18559999764, -0.305519998...\n",
       "476    [[-0.23857, 0.35457, -0.30219, 0.089559, 0.082...\n",
       "477    [[-0.232050001621, 0.474680006504, -0.38264000...\n",
       "478    [[-0.177389994264, 0.371549993753, -0.38040000...\n",
       "479    [[-0.0688939988613, 0.387690007687, -0.2612000...\n",
       "480    [[-0.238570004702, 0.354570001364, -0.30219000...\n",
       "481    [[-0.0849609971046, 0.501999974251, 0.00238230...\n",
       "482    [[-0.0385480001569, 0.542519986629, -0.2184299...\n",
       "483    [[-0.177389994264, 0.371549993753, -0.38040000...\n",
       "484    [[-0.232050001621, 0.474680006504, -0.38264000...\n",
       "485    [[0.0746089965105, 0.269320011139, -0.02772399...\n",
       "486    [[-0.232050001621, 0.474680006504, -0.38264000...\n",
       "487    [[-0.038548, 0.54252, -0.21843, -0.18855, 0.07...\n",
       "488    [[-0.232050001621, 0.474680006504, -0.38264000...\n",
       "489    [[-0.13563, 0.33217, -0.3602, -0.058787, 0.064...\n",
       "490    [[-0.0849609971046, 0.501999974251, 0.00238230...\n",
       "491    [[-0.0385480001569, 0.542519986629, -0.2184299...\n",
       "492    [[-0.0849609971046, 0.501999974251, 0.00238230...\n",
       "493    [[-0.232050001621, 0.474680006504, -0.38264000...\n",
       "494    [[0.229369997978, 0.121559999883, 0.0934149995...\n",
       "495    [[-0.0385480001569, 0.542519986629, -0.2184299...\n",
       "496    [[0.22937, 0.12156, 0.093415, -0.31117, 0.1419...\n",
       "497    [[-0.0385480001569, 0.542519986629, -0.2184299...\n",
       "498    [[-0.0849609971046, 0.501999974251, 0.00238230...\n",
       "499    [[-0.0385480001569, 0.542519986629, -0.2184299...\n",
       "dtype: object"
      ]
     },
     "execution_count": 174,
     "metadata": {},
     "output_type": "execute_result"
    },
    {
     "name": "stdout",
     "output_type": "stream",
     "text": [
      "time: 3.59 s\n"
     ]
    }
   ],
   "source": [
    "sample.map(question_transformer)"
   ]
  },
  {
   "cell_type": "markdown",
   "metadata": {
    "collapsed": true,
    "deletable": true,
    "editable": true
   },
   "source": [
    "# Text Transformation"
   ]
  },
  {
   "cell_type": "code",
   "execution_count": 175,
   "metadata": {
    "collapsed": false
   },
   "outputs": [
    {
     "data": {
      "text/html": [
       "<div>\n",
       "<table border=\"1\" class=\"dataframe\">\n",
       "  <thead>\n",
       "    <tr style=\"text-align: right;\">\n",
       "      <th></th>\n",
       "      <th>id</th>\n",
       "      <th>qid1</th>\n",
       "      <th>qid2</th>\n",
       "      <th>is_duplicate</th>\n",
       "    </tr>\n",
       "  </thead>\n",
       "  <tbody>\n",
       "    <tr>\n",
       "      <th>count</th>\n",
       "      <td>404290.000000</td>\n",
       "      <td>404290.000000</td>\n",
       "      <td>404290.000000</td>\n",
       "      <td>404290.000000</td>\n",
       "    </tr>\n",
       "    <tr>\n",
       "      <th>mean</th>\n",
       "      <td>202144.500000</td>\n",
       "      <td>217243.942418</td>\n",
       "      <td>220955.655337</td>\n",
       "      <td>0.369198</td>\n",
       "    </tr>\n",
       "    <tr>\n",
       "      <th>std</th>\n",
       "      <td>116708.614503</td>\n",
       "      <td>157751.700002</td>\n",
       "      <td>159903.182629</td>\n",
       "      <td>0.482588</td>\n",
       "    </tr>\n",
       "    <tr>\n",
       "      <th>min</th>\n",
       "      <td>0.000000</td>\n",
       "      <td>1.000000</td>\n",
       "      <td>2.000000</td>\n",
       "      <td>0.000000</td>\n",
       "    </tr>\n",
       "    <tr>\n",
       "      <th>25%</th>\n",
       "      <td>101072.250000</td>\n",
       "      <td>74437.500000</td>\n",
       "      <td>74727.000000</td>\n",
       "      <td>0.000000</td>\n",
       "    </tr>\n",
       "    <tr>\n",
       "      <th>50%</th>\n",
       "      <td>202144.500000</td>\n",
       "      <td>192182.000000</td>\n",
       "      <td>197052.000000</td>\n",
       "      <td>0.000000</td>\n",
       "    </tr>\n",
       "    <tr>\n",
       "      <th>75%</th>\n",
       "      <td>303216.750000</td>\n",
       "      <td>346573.500000</td>\n",
       "      <td>354692.500000</td>\n",
       "      <td>1.000000</td>\n",
       "    </tr>\n",
       "    <tr>\n",
       "      <th>max</th>\n",
       "      <td>404289.000000</td>\n",
       "      <td>537932.000000</td>\n",
       "      <td>537933.000000</td>\n",
       "      <td>1.000000</td>\n",
       "    </tr>\n",
       "  </tbody>\n",
       "</table>\n",
       "</div>"
      ],
      "text/plain": [
       "                  id           qid1           qid2   is_duplicate\n",
       "count  404290.000000  404290.000000  404290.000000  404290.000000\n",
       "mean   202144.500000  217243.942418  220955.655337       0.369198\n",
       "std    116708.614503  157751.700002  159903.182629       0.482588\n",
       "min         0.000000       1.000000       2.000000       0.000000\n",
       "25%    101072.250000   74437.500000   74727.000000       0.000000\n",
       "50%    202144.500000  192182.000000  197052.000000       0.000000\n",
       "75%    303216.750000  346573.500000  354692.500000       1.000000\n",
       "max    404289.000000  537932.000000  537933.000000       1.000000"
      ]
     },
     "execution_count": 175,
     "metadata": {},
     "output_type": "execute_result"
    },
    {
     "name": "stdout",
     "output_type": "stream",
     "text": [
      "time: 514 ms\n"
     ]
    }
   ],
   "source": [
    "# df_train = pd.read_csv(TRAIN_CSV)\n",
    "# df_test = pd.read_csv(TEST_CSV)\n",
    "\n",
    "df_train.describe()"
   ]
  },
  {
   "cell_type": "code",
   "execution_count": 181,
   "metadata": {
    "collapsed": false
   },
   "outputs": [
    {
     "data": {
      "text/plain": [
       "(id              0\n",
       " qid1            0\n",
       " qid2            0\n",
       " question1       0\n",
       " question2       2\n",
       " is_duplicate    0\n",
       " dtype: int64, test_id      0\n",
       " question1    2\n",
       " question2    4\n",
       " dtype: int64)"
      ]
     },
     "execution_count": 181,
     "metadata": {},
     "output_type": "execute_result"
    },
    {
     "name": "stdout",
     "output_type": "stream",
     "text": [
      "time: 829 ms\n"
     ]
    }
   ],
   "source": [
    "np.sum(df_train.isnull(), axis=0), np.sum(df_test.isnull(), axis=0)"
   ]
  },
  {
   "cell_type": "code",
   "execution_count": 197,
   "metadata": {
    "collapsed": false
   },
   "outputs": [
    {
     "name": "stdout",
     "output_type": "stream",
     "text": [
      "time: 12.5 s\n"
     ]
    }
   ],
   "source": [
    "df_train = pd.read_csv(TRAIN_CSV)\n",
    "df_test = pd.read_csv(TEST_CSV)"
   ]
  },
  {
   "cell_type": "code",
   "execution_count": 198,
   "metadata": {
    "collapsed": false
   },
   "outputs": [
    {
     "name": "stdout",
     "output_type": "stream",
     "text": [
      "time: 977 ms\n"
     ]
    }
   ],
   "source": [
    "df_train.dropna(inplace=True)\n",
    "df_test.dropna(inplace=True)"
   ]
  },
  {
   "cell_type": "code",
   "execution_count": 199,
   "metadata": {
    "collapsed": false
   },
   "outputs": [
    {
     "name": "stdout",
     "output_type": "stream",
     "text": [
      "time: 144 ms\n"
     ]
    }
   ],
   "source": [
    "df_train.question1.apply?"
   ]
  },
  {
   "cell_type": "code",
   "execution_count": 213,
   "metadata": {
    "collapsed": false
   },
   "outputs": [
    {
     "name": "stdout",
     "output_type": "stream",
     "text": [
      "Object `applymap` not found.\n",
      "time: 4.19 ms\n"
     ]
    }
   ],
   "source": [
    "def row_mapper(row):\n",
    "    print(str(row))\n",
    "    row.question1 = \"a\"\n",
    "    row.question2 = 'b'\n",
    "    return row\n",
    "\n",
    "df_train[:5].applymap?"
   ]
  },
  {
   "cell_type": "code",
   "execution_count": 215,
   "metadata": {
    "collapsed": false
   },
   "outputs": [
    {
     "name": "stdout",
     "output_type": "stream",
     "text": [
      "time: 21.9 ms\n"
     ]
    }
   ],
   "source": [
    "df_train.apply?"
   ]
  },
  {
   "cell_type": "code",
   "execution_count": 222,
   "metadata": {
    "collapsed": false
   },
   "outputs": [
    {
     "data": {
      "text/html": [
       "<div>\n",
       "<table border=\"1\" class=\"dataframe\">\n",
       "  <thead>\n",
       "    <tr style=\"text-align: right;\">\n",
       "      <th></th>\n",
       "      <th>question1</th>\n",
       "      <th>question2</th>\n",
       "    </tr>\n",
       "  </thead>\n",
       "  <tbody>\n",
       "    <tr>\n",
       "      <th>0</th>\n",
       "      <td>[[-0.0385480001569, 0.542519986629, -0.2184299...</td>\n",
       "      <td>[[-0.0385480001569, 0.542519986629, -0.2184299...</td>\n",
       "    </tr>\n",
       "    <tr>\n",
       "      <th>1</th>\n",
       "      <td>[[-0.0385480001569, 0.542519986629, -0.2184299...</td>\n",
       "      <td>[[-0.0385480001569, 0.542519986629, -0.2184299...</td>\n",
       "    </tr>\n",
       "  </tbody>\n",
       "</table>\n",
       "</div>"
      ],
      "text/plain": [
       "                                           question1  \\\n",
       "0  [[-0.0385480001569, 0.542519986629, -0.2184299...   \n",
       "1  [[-0.0385480001569, 0.542519986629, -0.2184299...   \n",
       "\n",
       "                                           question2  \n",
       "0  [[-0.0385480001569, 0.542519986629, -0.2184299...  \n",
       "1  [[-0.0385480001569, 0.542519986629, -0.2184299...  "
      ]
     },
     "execution_count": 222,
     "metadata": {},
     "output_type": "execute_result"
    },
    {
     "name": "stdout",
     "output_type": "stream",
     "text": [
      "time: 516 ms\n"
     ]
    }
   ],
   "source": [
    "df_train['question1 question2'.split()][:2].applymap(question_transformer)"
   ]
  },
  {
   "cell_type": "code",
   "execution_count": 223,
   "metadata": {
    "collapsed": false
   },
   "outputs": [
    {
     "name": "stdout",
     "output_type": "stream",
     "text": [
      "time: 1.15 ms\n"
     ]
    }
   ],
   "source": [
    "import copy"
   ]
  },
  {
   "cell_type": "code",
   "execution_count": 306,
   "metadata": {
    "collapsed": false
   },
   "outputs": [
    {
     "name": "stdout",
     "output_type": "stream",
     "text": [
      "time: 29.8 ms\n"
     ]
    }
   ],
   "source": [
    "# sample = copy.deepcopy(df_train['question1 question2'.split()][:50].applymap(question_transformer))\n",
    "sample = copy.deepcopy(df_train['question1 question2'.split()][:10]) # .applymap(question_transformer)"
   ]
  },
  {
   "cell_type": "code",
   "execution_count": 307,
   "metadata": {
    "collapsed": false
   },
   "outputs": [
    {
     "data": {
      "text/plain": [
       "((10, 2), (50, 300))"
      ]
     },
     "execution_count": 307,
     "metadata": {},
     "output_type": "execute_result"
    },
    {
     "name": "stdout",
     "output_type": "stream",
     "text": [
      "time: 5.31 ms\n"
     ]
    }
   ],
   "source": [
    "sample.shape, question_transformer('0\tWhat is the step by step guide to invest i').shape"
   ]
  },
  {
   "cell_type": "code",
   "execution_count": 309,
   "metadata": {
    "collapsed": false
   },
   "outputs": [
    {
     "name": "stdout",
     "output_type": "stream",
     "text": [
      "time: 2.69 ms\n"
     ]
    }
   ],
   "source": [
    "row = []\n",
    "\n",
    "def row_mapper(input_row):\n",
    "    global row \n",
    "    row = input_row\n",
    "    return row"
   ]
  },
  {
   "cell_type": "code",
   "execution_count": 314,
   "metadata": {
    "collapsed": false
   },
   "outputs": [
    {
     "data": {
      "text/html": [
       "<div>\n",
       "<table border=\"1\" class=\"dataframe\">\n",
       "  <thead>\n",
       "    <tr style=\"text-align: right;\">\n",
       "      <th></th>\n",
       "      <th>question1</th>\n",
       "      <th>question2</th>\n",
       "    </tr>\n",
       "  </thead>\n",
       "  <tbody>\n",
       "    <tr>\n",
       "      <th>0</th>\n",
       "      <td>What is the step by step guide to invest in sh...</td>\n",
       "      <td>What is the step by step guide to invest in sh...</td>\n",
       "    </tr>\n",
       "    <tr>\n",
       "      <th>1</th>\n",
       "      <td>What is the story of Kohinoor (Koh-i-Noor) Dia...</td>\n",
       "      <td>What would happen if the Indian government sto...</td>\n",
       "    </tr>\n",
       "    <tr>\n",
       "      <th>2</th>\n",
       "      <td>How can I increase the speed of my internet co...</td>\n",
       "      <td>How can Internet speed be increased by hacking...</td>\n",
       "    </tr>\n",
       "    <tr>\n",
       "      <th>3</th>\n",
       "      <td>Why am I mentally very lonely? How can I solve...</td>\n",
       "      <td>Find the remainder when [math]23^{24}[/math] i...</td>\n",
       "    </tr>\n",
       "    <tr>\n",
       "      <th>4</th>\n",
       "      <td>Which one dissolve in water quikly sugar, salt...</td>\n",
       "      <td>Which fish would survive in salt water?</td>\n",
       "    </tr>\n",
       "    <tr>\n",
       "      <th>5</th>\n",
       "      <td>Astrology: I am a Capricorn Sun Cap moon and c...</td>\n",
       "      <td>I'm a triple Capricorn (Sun, Moon and ascendan...</td>\n",
       "    </tr>\n",
       "    <tr>\n",
       "      <th>6</th>\n",
       "      <td>Should I buy tiago?</td>\n",
       "      <td>What keeps childern active and far from phone ...</td>\n",
       "    </tr>\n",
       "    <tr>\n",
       "      <th>7</th>\n",
       "      <td>How can I be a good geologist?</td>\n",
       "      <td>What should I do to be a great geologist?</td>\n",
       "    </tr>\n",
       "    <tr>\n",
       "      <th>8</th>\n",
       "      <td>When do you use シ instead of し?</td>\n",
       "      <td>When do you use \"&amp;\" instead of \"and\"?</td>\n",
       "    </tr>\n",
       "    <tr>\n",
       "      <th>9</th>\n",
       "      <td>Motorola (company): Can I hack my Charter Moto...</td>\n",
       "      <td>How do I hack Motorola DCX3400 for free internet?</td>\n",
       "    </tr>\n",
       "  </tbody>\n",
       "</table>\n",
       "</div>"
      ],
      "text/plain": [
       "                                           question1  \\\n",
       "0  What is the step by step guide to invest in sh...   \n",
       "1  What is the story of Kohinoor (Koh-i-Noor) Dia...   \n",
       "2  How can I increase the speed of my internet co...   \n",
       "3  Why am I mentally very lonely? How can I solve...   \n",
       "4  Which one dissolve in water quikly sugar, salt...   \n",
       "5  Astrology: I am a Capricorn Sun Cap moon and c...   \n",
       "6                                Should I buy tiago?   \n",
       "7                     How can I be a good geologist?   \n",
       "8                    When do you use シ instead of し?   \n",
       "9  Motorola (company): Can I hack my Charter Moto...   \n",
       "\n",
       "                                           question2  \n",
       "0  What is the step by step guide to invest in sh...  \n",
       "1  What would happen if the Indian government sto...  \n",
       "2  How can Internet speed be increased by hacking...  \n",
       "3  Find the remainder when [math]23^{24}[/math] i...  \n",
       "4            Which fish would survive in salt water?  \n",
       "5  I'm a triple Capricorn (Sun, Moon and ascendan...  \n",
       "6  What keeps childern active and far from phone ...  \n",
       "7          What should I do to be a great geologist?  \n",
       "8              When do you use \"&\" instead of \"and\"?  \n",
       "9  How do I hack Motorola DCX3400 for free internet?  "
      ]
     },
     "execution_count": 314,
     "metadata": {},
     "output_type": "execute_result"
    },
    {
     "name": "stdout",
     "output_type": "stream",
     "text": [
      "time: 12.9 ms\n"
     ]
    }
   ],
   "source": [
    "sample.applymap(row_mapper)"
   ]
  },
  {
   "cell_type": "code",
   "execution_count": 318,
   "metadata": {
    "collapsed": false
   },
   "outputs": [
    {
     "name": "stdout",
     "output_type": "stream",
     "text": [
      "time: 1.55 ms\n"
     ]
    }
   ],
   "source": [
    "features1 = np.array(sample.question1)"
   ]
  },
  {
   "cell_type": "code",
   "execution_count": 324,
   "metadata": {
    "collapsed": false
   },
   "outputs": [
    {
     "name": "stdout",
     "output_type": "stream",
     "text": [
      "time: 9.12 ms\n"
     ]
    }
   ],
   "source": [
    "new_features1 = array([question_transformer(_) for _ in sample.question1])\n",
    "new_features2 = array([question_transformer(_) for _ in sample.question2])"
   ]
  },
  {
   "cell_type": "code",
   "execution_count": null,
   "metadata": {
    "collapsed": false
   },
   "outputs": [],
   "source": [
    "df_train = array([array([question_transformer(_) for _ in df_train.question1]),\n",
    "           array([question_transformer(_) for _ in df_train.question2])])"
   ]
  },
  {
   "cell_type": "code",
   "execution_count": null,
   "metadata": {
    "collapsed": true
   },
   "outputs": [],
   "source": [
    "df_train.shape"
   ]
  },
  {
   "cell_type": "code",
   "execution_count": null,
   "metadata": {
    "collapsed": true
   },
   "outputs": [],
   "source": []
  },
  {
   "cell_type": "code",
   "execution_count": null,
   "metadata": {
    "collapsed": true
   },
   "outputs": [],
   "source": []
  },
  {
   "cell_type": "code",
   "execution_count": null,
   "metadata": {
    "collapsed": true
   },
   "outputs": [],
   "source": []
  },
  {
   "cell_type": "code",
   "execution_count": null,
   "metadata": {
    "collapsed": true
   },
   "outputs": [],
   "source": []
  },
  {
   "cell_type": "code",
   "execution_count": null,
   "metadata": {
    "collapsed": true
   },
   "outputs": [],
   "source": []
  },
  {
   "cell_type": "code",
   "execution_count": 263,
   "metadata": {
    "collapsed": false
   },
   "outputs": [
    {
     "data": {
      "text/html": [
       "<div>\n",
       "<table border=\"1\" class=\"dataframe\">\n",
       "  <thead>\n",
       "    <tr style=\"text-align: right;\">\n",
       "      <th></th>\n",
       "      <th>0</th>\n",
       "      <th>1</th>\n",
       "      <th>2</th>\n",
       "      <th>3</th>\n",
       "      <th>4</th>\n",
       "      <th>5</th>\n",
       "      <th>6</th>\n",
       "      <th>7</th>\n",
       "      <th>8</th>\n",
       "      <th>9</th>\n",
       "      <th>...</th>\n",
       "      <th>90</th>\n",
       "      <th>91</th>\n",
       "      <th>92</th>\n",
       "      <th>93</th>\n",
       "      <th>94</th>\n",
       "      <th>95</th>\n",
       "      <th>96</th>\n",
       "      <th>97</th>\n",
       "      <th>98</th>\n",
       "      <th>99</th>\n",
       "    </tr>\n",
       "  </thead>\n",
       "  <tbody>\n",
       "    <tr>\n",
       "      <th>question1</th>\n",
       "      <td>[[-0.0385480001569, 0.542519986629, -0.2184299...</td>\n",
       "      <td>[[-0.0385480001569, 0.542519986629, -0.2184299...</td>\n",
       "      <td>[[-0.232050001621, 0.474680006504, -0.38264000...</td>\n",
       "      <td>[[-0.177389994264, 0.371549993753, -0.38040000...</td>\n",
       "      <td>[[0.229369997978, 0.121559999883, 0.0934149995...</td>\n",
       "      <td>[[0.210940003395, 0.592909991741, 0.2655900120...</td>\n",
       "      <td>[[-0.0130479997024, 0.0663049966097, -0.186749...</td>\n",
       "      <td>[[-0.232050001621, 0.474680006504, -0.38264000...</td>\n",
       "      <td>[[0.204999998212, 0.300570011139, -0.302590012...</td>\n",
       "      <td>[[-0.0632240027189, 0.236330002546, 0.44685998...</td>\n",
       "      <td>...</td>\n",
       "      <td>[[-0.0385480001569, 0.542519986629, -0.2184299...</td>\n",
       "      <td>[[-0.0279389992356, 0.356279999018, 0.65255999...</td>\n",
       "      <td>[[-0.0385480001569, 0.542519986629, -0.2184299...</td>\n",
       "      <td>[[-0.0385480001569, 0.542519986629, -0.2184299...</td>\n",
       "      <td>[[-0.0385480001569, 0.542519986629, -0.2184299...</td>\n",
       "      <td>[[-0.232050001621, 0.474680006504, -0.38264000...</td>\n",
       "      <td>[[-0.0385480001569, 0.542519986629, -0.2184299...</td>\n",
       "      <td>[[-0.177389994264, 0.371549993753, -0.38040000...</td>\n",
       "      <td>[[-0.0385480001569, 0.542519986629, -0.2184299...</td>\n",
       "      <td>[[-0.177389994264, 0.371549993753, -0.38040000...</td>\n",
       "    </tr>\n",
       "    <tr>\n",
       "      <th>question2</th>\n",
       "      <td>[[-0.0385480001569, 0.542519986629, -0.2184299...</td>\n",
       "      <td>[[-0.0385480001569, 0.542519986629, -0.2184299...</td>\n",
       "      <td>[[-0.232050001621, 0.474680006504, -0.38264000...</td>\n",
       "      <td>[[0.0850000008941, 0.322129994631, -0.56233000...</td>\n",
       "      <td>[[0.229369997978, 0.121559999883, 0.0934149995...</td>\n",
       "      <td>[[0.187329992652, 0.405950009823, -0.511740028...</td>\n",
       "      <td>[[-0.0385480001569, 0.542519986629, -0.2184299...</td>\n",
       "      <td>[[-0.0385480001569, 0.542519986629, -0.2184299...</td>\n",
       "      <td>[[0.204999998212, 0.300570011139, -0.302590012...</td>\n",
       "      <td>[[-0.232050001621, 0.474680006504, -0.38264000...</td>\n",
       "      <td>...</td>\n",
       "      <td>[[0.229369997978, 0.121559999883, 0.0934149995...</td>\n",
       "      <td>[[-0.0279389992356, 0.356279999018, 0.65255999...</td>\n",
       "      <td>[[-0.0385480001569, 0.542519986629, -0.2184299...</td>\n",
       "      <td>[[-0.0385480001569, 0.542519986629, -0.2184299...</td>\n",
       "      <td>[[-0.0385480001569, 0.542519986629, -0.2184299...</td>\n",
       "      <td>[[-0.232050001621, 0.474680006504, -0.38264000...</td>\n",
       "      <td>[[0.0746089965105, 0.269320011139, -0.02772399...</td>\n",
       "      <td>[[-0.0385480001569, 0.542519986629, -0.2184299...</td>\n",
       "      <td>[[-0.0385480001569, 0.542519986629, -0.2184299...</td>\n",
       "      <td>[[-0.232050001621, 0.474680006504, -0.38264000...</td>\n",
       "    </tr>\n",
       "  </tbody>\n",
       "</table>\n",
       "<p>2 rows × 100 columns</p>\n",
       "</div>"
      ],
      "text/plain": [
       "                                                          0   \\\n",
       "question1  [[-0.0385480001569, 0.542519986629, -0.2184299...   \n",
       "question2  [[-0.0385480001569, 0.542519986629, -0.2184299...   \n",
       "\n",
       "                                                          1   \\\n",
       "question1  [[-0.0385480001569, 0.542519986629, -0.2184299...   \n",
       "question2  [[-0.0385480001569, 0.542519986629, -0.2184299...   \n",
       "\n",
       "                                                          2   \\\n",
       "question1  [[-0.232050001621, 0.474680006504, -0.38264000...   \n",
       "question2  [[-0.232050001621, 0.474680006504, -0.38264000...   \n",
       "\n",
       "                                                          3   \\\n",
       "question1  [[-0.177389994264, 0.371549993753, -0.38040000...   \n",
       "question2  [[0.0850000008941, 0.322129994631, -0.56233000...   \n",
       "\n",
       "                                                          4   \\\n",
       "question1  [[0.229369997978, 0.121559999883, 0.0934149995...   \n",
       "question2  [[0.229369997978, 0.121559999883, 0.0934149995...   \n",
       "\n",
       "                                                          5   \\\n",
       "question1  [[0.210940003395, 0.592909991741, 0.2655900120...   \n",
       "question2  [[0.187329992652, 0.405950009823, -0.511740028...   \n",
       "\n",
       "                                                          6   \\\n",
       "question1  [[-0.0130479997024, 0.0663049966097, -0.186749...   \n",
       "question2  [[-0.0385480001569, 0.542519986629, -0.2184299...   \n",
       "\n",
       "                                                          7   \\\n",
       "question1  [[-0.232050001621, 0.474680006504, -0.38264000...   \n",
       "question2  [[-0.0385480001569, 0.542519986629, -0.2184299...   \n",
       "\n",
       "                                                          8   \\\n",
       "question1  [[0.204999998212, 0.300570011139, -0.302590012...   \n",
       "question2  [[0.204999998212, 0.300570011139, -0.302590012...   \n",
       "\n",
       "                                                          9   \\\n",
       "question1  [[-0.0632240027189, 0.236330002546, 0.44685998...   \n",
       "question2  [[-0.232050001621, 0.474680006504, -0.38264000...   \n",
       "\n",
       "                                 ...                          \\\n",
       "question1                        ...                           \n",
       "question2                        ...                           \n",
       "\n",
       "                                                          90  \\\n",
       "question1  [[-0.0385480001569, 0.542519986629, -0.2184299...   \n",
       "question2  [[0.229369997978, 0.121559999883, 0.0934149995...   \n",
       "\n",
       "                                                          91  \\\n",
       "question1  [[-0.0279389992356, 0.356279999018, 0.65255999...   \n",
       "question2  [[-0.0279389992356, 0.356279999018, 0.65255999...   \n",
       "\n",
       "                                                          92  \\\n",
       "question1  [[-0.0385480001569, 0.542519986629, -0.2184299...   \n",
       "question2  [[-0.0385480001569, 0.542519986629, -0.2184299...   \n",
       "\n",
       "                                                          93  \\\n",
       "question1  [[-0.0385480001569, 0.542519986629, -0.2184299...   \n",
       "question2  [[-0.0385480001569, 0.542519986629, -0.2184299...   \n",
       "\n",
       "                                                          94  \\\n",
       "question1  [[-0.0385480001569, 0.542519986629, -0.2184299...   \n",
       "question2  [[-0.0385480001569, 0.542519986629, -0.2184299...   \n",
       "\n",
       "                                                          95  \\\n",
       "question1  [[-0.232050001621, 0.474680006504, -0.38264000...   \n",
       "question2  [[-0.232050001621, 0.474680006504, -0.38264000...   \n",
       "\n",
       "                                                          96  \\\n",
       "question1  [[-0.0385480001569, 0.542519986629, -0.2184299...   \n",
       "question2  [[0.0746089965105, 0.269320011139, -0.02772399...   \n",
       "\n",
       "                                                          97  \\\n",
       "question1  [[-0.177389994264, 0.371549993753, -0.38040000...   \n",
       "question2  [[-0.0385480001569, 0.542519986629, -0.2184299...   \n",
       "\n",
       "                                                          98  \\\n",
       "question1  [[-0.0385480001569, 0.542519986629, -0.2184299...   \n",
       "question2  [[-0.0385480001569, 0.542519986629, -0.2184299...   \n",
       "\n",
       "                                                          99  \n",
       "question1  [[-0.177389994264, 0.371549993753, -0.38040000...  \n",
       "question2  [[-0.232050001621, 0.474680006504, -0.38264000...  \n",
       "\n",
       "[2 rows x 100 columns]"
      ]
     },
     "execution_count": 263,
     "metadata": {},
     "output_type": "execute_result"
    },
    {
     "name": "stdout",
     "output_type": "stream",
     "text": [
      "time: 4.67 s\n"
     ]
    }
   ],
   "source": [
    "new = sample.applymap(question_transformer)"
   ]
  },
  {
   "cell_type": "code",
   "execution_count": 294,
   "metadata": {
    "collapsed": false
   },
   "outputs": [
    {
     "data": {
      "text/plain": [
       "(100,)"
      ]
     },
     "execution_count": 294,
     "metadata": {},
     "output_type": "execute_result"
    },
    {
     "name": "stdout",
     "output_type": "stream",
     "text": [
      "time: 5.22 ms\n"
     ]
    }
   ],
   "source": [
    "np.array(sample.question1.map(lambda x: array([1, 1]))).shape"
   ]
  },
  {
   "cell_type": "code",
   "execution_count": 298,
   "metadata": {
    "collapsed": false
   },
   "outputs": [
    {
     "name": "stdout",
     "output_type": "stream",
     "text": [
      "time: 23 ms\n"
     ]
    }
   ],
   "source": [
    "features1 = np.zeros_like(sample.question1)\n",
    "\n",
    "for i, row in enumerate(sample.question1):\n",
    "    features1[i] = question_transformer(sample.question1[i])"
   ]
  },
  {
   "cell_type": "code",
   "execution_count": 305,
   "metadata": {
    "collapsed": false
   },
   "outputs": [
    {
     "data": {
      "text/plain": [
       "numpy.ndarray"
      ]
     },
     "execution_count": 305,
     "metadata": {},
     "output_type": "execute_result"
    },
    {
     "name": "stdout",
     "output_type": "stream",
     "text": [
      "time: 4.02 ms\n"
     ]
    }
   ],
   "source": [
    "type(features1[1])"
   ]
  },
  {
   "cell_type": "code",
   "execution_count": null,
   "metadata": {
    "collapsed": true
   },
   "outputs": [],
   "source": []
  }
 ],
 "metadata": {
  "kernelspec": {
   "display_name": "Python 3",
   "language": "python",
   "name": "python3"
  },
  "language_info": {
   "codemirror_mode": {
    "name": "ipython",
    "version": 3
   },
   "file_extension": ".py",
   "mimetype": "text/x-python",
   "name": "python",
   "nbconvert_exporter": "python",
   "pygments_lexer": "ipython3",
   "version": "3.5.2"
  }
 },
 "nbformat": 4,
 "nbformat_minor": 2
}
