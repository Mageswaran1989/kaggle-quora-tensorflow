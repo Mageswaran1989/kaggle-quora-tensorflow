{
 "cells": [
  {
   "cell_type": "markdown",
   "metadata": {
    "deletable": true,
    "editable": true
   },
   "source": [
    "# Sentiment Analysis with an RNN\n",
    "\n",
    "In this notebook, you'll implement a recurrent neural network that performs sentiment analysis. Using an RNN rather than a feedfoward network is more accurate since we can include information about the *sequence* of words. Here we'll use a dataset of movie reviews, accompanied by labels.\n",
    "\n",
    "The architecture for this network is shown below.\n",
    "\n",
    "<img src=\"assets/network_diagram.png\" width=400px>\n",
    "\n",
    "Here, we'll pass in words to an embedding layer. We need an embedding layer because we have tens of thousands of words, so we'll need a more efficient representation for our input data than one-hot encoded vectors. You should have seen this before from the word2vec lesson. You can actually train up an embedding with word2vec and use it here. But it's good enough to just have an embedding layer and let the network learn the embedding table on it's own.\n",
    "\n",
    "From the embedding layer, the new representations will be passed to LSTM cells. These will add recurrent connections to the network so we can include information about the sequence of words in the data. Finally, the LSTM cells will go to a sigmoid output layer here. We're using the sigmoid because we're trying to predict if this text has positive or negative sentiment. The output layer will just be a single unit then, with a sigmoid activation function.\n",
    "\n",
    "We don't care about the sigmoid outputs except for the very last one, we can ignore the rest. We'll calculate the cost from the output of the last step and the training label."
   ]
  },
  {
   "cell_type": "code",
   "execution_count": 1,
   "metadata": {
    "collapsed": true,
    "deletable": true,
    "editable": true
   },
   "outputs": [],
   "source": [
    "import numpy as np\n",
    "import tensorflow as tf"
   ]
  },
  {
   "cell_type": "code",
   "execution_count": 2,
   "metadata": {
    "collapsed": false,
    "deletable": true,
    "editable": true
   },
   "outputs": [],
   "source": [
    "with open('../sentiment_network/reviews.txt', 'r') as f:\n",
    "    reviews = f.read()\n",
    "with open('../sentiment_network/labels.txt', 'r') as f:\n",
    "    labels = f.read()"
   ]
  },
  {
   "cell_type": "code",
   "execution_count": 3,
   "metadata": {
    "collapsed": false,
    "deletable": true,
    "editable": true
   },
   "outputs": [
    {
     "data": {
      "text/plain": [
       "'bromwell high is a cartoon comedy . it ran at the same time as some other programs about school life  such as  teachers  . my   years in the teaching profession lead me to believe that bromwell high  s satire is much closer to reality than is  teachers  . the scramble to survive financially  the insightful students who can see right through their pathetic teachers  pomp  the pettiness of the whole situation  all remind me of the schools i knew and their students . when i saw the episode in which a student repeatedly tried to burn down the school  i immediately recalled . . . . . . . . . at . . . . . . . . . . high . a classic line inspector i  m here to sack one of your teachers . student welcome to bromwell high . i expect that many adults of my age think that bromwell high is far fetched . what a pity that it isn  t   \\nstory of a man who has unnatural feelings for a pig . starts out with a opening scene that is a terrific example of absurd comedy . a formal orchestra audience is turned into an insane  violent mob by the crazy chantings of it  s singers . unfortunately it stays absurd the whole time with no general narrative eventually making it just too off putting . even those from the era should be turned off . the cryptic dialogue would make shakespeare seem easy to a third grader . on a technical level it  s better than you might think with some good cinematography by future great vilmos zsigmond . future stars sally kirkland and frederic forrest can be seen briefly .  \\nhomelessness  or houselessness as george carlin stated  has been an issue for years but never a plan to help those on the street that were once considered human who did everything from going to school  work  or vote for the matter . most people think of the homeless as just a lost cause while worrying about things such as racism  the war on iraq  pressuring kids to succeed  technology  the elections  inflation  or worrying if they  ll be next to end up on the streets .  br    br   but what if y'"
      ]
     },
     "execution_count": 3,
     "metadata": {},
     "output_type": "execute_result"
    }
   ],
   "source": [
    "reviews[:2000]"
   ]
  },
  {
   "cell_type": "markdown",
   "metadata": {
    "deletable": true,
    "editable": true
   },
   "source": [
    "## Data preprocessing\n",
    "\n",
    "The first step when building a neural network model is getting your data into the proper form to feed into the network. Since we're using embedding layers, we'll need to encode each word with an integer. We'll also want to clean it up a bit.\n",
    "\n",
    "You can see an example of the reviews data above. We'll want to get rid of those periods. Also, you might notice that the reviews are delimited with newlines `\\n`. To deal with those, I'm going to split the text into each review using `\\n` as the delimiter. Then I can combined all the reviews back together into one big string.\n",
    "\n",
    "First, let's remove all punctuation. Then get all the text without the newlines and split it into individual words."
   ]
  },
  {
   "cell_type": "code",
   "execution_count": 4,
   "metadata": {
    "collapsed": true,
    "deletable": true,
    "editable": true
   },
   "outputs": [],
   "source": [
    "from string import punctuation\n",
    "all_text = ''.join([c for c in reviews if c not in punctuation])\n",
    "reviews = all_text.split('\\n')\n",
    "\n",
    "all_text = ' '.join(reviews)\n",
    "words = all_text.split()"
   ]
  },
  {
   "cell_type": "code",
   "execution_count": 5,
   "metadata": {
    "collapsed": false,
    "deletable": true,
    "editable": true
   },
   "outputs": [
    {
     "data": {
      "text/plain": [
       "'bromwell high is a cartoon comedy  it ran at the same time as some other programs about school life  such as  teachers   my   years in the teaching profession lead me to believe that bromwell high  s satire is much closer to reality than is  teachers   the scramble to survive financially  the insightful students who can see right through their pathetic teachers  pomp  the pettiness of the whole situation  all remind me of the schools i knew and their students  when i saw the episode in which a student repeatedly tried to burn down the school  i immediately recalled          at           high  a classic line inspector i  m here to sack one of your teachers  student welcome to bromwell high  i expect that many adults of my age think that bromwell high is far fetched  what a pity that it isn  t    story of a man who has unnatural feelings for a pig  starts out with a opening scene that is a terrific example of absurd comedy  a formal orchestra audience is turned into an insane  violent mob by the crazy chantings of it  s singers  unfortunately it stays absurd the whole time with no general narrative eventually making it just too off putting  even those from the era should be turned off  the cryptic dialogue would make shakespeare seem easy to a third grader  on a technical level it  s better than you might think with some good cinematography by future great vilmos zsigmond  future stars sally kirkland and frederic forrest can be seen briefly    homelessness  or houselessness as george carlin stated  has been an issue for years but never a plan to help those on the street that were once considered human who did everything from going to school  work  or vote for the matter  most people think of the homeless as just a lost cause while worrying about things such as racism  the war on iraq  pressuring kids to succeed  technology  the elections  inflation  or worrying if they  ll be next to end up on the streets   br    br   but what if you were given a bet to live on the st'"
      ]
     },
     "execution_count": 5,
     "metadata": {},
     "output_type": "execute_result"
    }
   ],
   "source": [
    "all_text[:2000]"
   ]
  },
  {
   "cell_type": "code",
   "execution_count": 6,
   "metadata": {
    "collapsed": false,
    "deletable": true,
    "editable": true
   },
   "outputs": [
    {
     "data": {
      "text/plain": [
       "['bromwell',\n",
       " 'high',\n",
       " 'is',\n",
       " 'a',\n",
       " 'cartoon',\n",
       " 'comedy',\n",
       " 'it',\n",
       " 'ran',\n",
       " 'at',\n",
       " 'the',\n",
       " 'same',\n",
       " 'time',\n",
       " 'as',\n",
       " 'some',\n",
       " 'other',\n",
       " 'programs',\n",
       " 'about',\n",
       " 'school',\n",
       " 'life',\n",
       " 'such',\n",
       " 'as',\n",
       " 'teachers',\n",
       " 'my',\n",
       " 'years',\n",
       " 'in',\n",
       " 'the',\n",
       " 'teaching',\n",
       " 'profession',\n",
       " 'lead',\n",
       " 'me',\n",
       " 'to',\n",
       " 'believe',\n",
       " 'that',\n",
       " 'bromwell',\n",
       " 'high',\n",
       " 's',\n",
       " 'satire',\n",
       " 'is',\n",
       " 'much',\n",
       " 'closer',\n",
       " 'to',\n",
       " 'reality',\n",
       " 'than',\n",
       " 'is',\n",
       " 'teachers',\n",
       " 'the',\n",
       " 'scramble',\n",
       " 'to',\n",
       " 'survive',\n",
       " 'financially',\n",
       " 'the',\n",
       " 'insightful',\n",
       " 'students',\n",
       " 'who',\n",
       " 'can',\n",
       " 'see',\n",
       " 'right',\n",
       " 'through',\n",
       " 'their',\n",
       " 'pathetic',\n",
       " 'teachers',\n",
       " 'pomp',\n",
       " 'the',\n",
       " 'pettiness',\n",
       " 'of',\n",
       " 'the',\n",
       " 'whole',\n",
       " 'situation',\n",
       " 'all',\n",
       " 'remind',\n",
       " 'me',\n",
       " 'of',\n",
       " 'the',\n",
       " 'schools',\n",
       " 'i',\n",
       " 'knew',\n",
       " 'and',\n",
       " 'their',\n",
       " 'students',\n",
       " 'when',\n",
       " 'i',\n",
       " 'saw',\n",
       " 'the',\n",
       " 'episode',\n",
       " 'in',\n",
       " 'which',\n",
       " 'a',\n",
       " 'student',\n",
       " 'repeatedly',\n",
       " 'tried',\n",
       " 'to',\n",
       " 'burn',\n",
       " 'down',\n",
       " 'the',\n",
       " 'school',\n",
       " 'i',\n",
       " 'immediately',\n",
       " 'recalled',\n",
       " 'at',\n",
       " 'high']"
      ]
     },
     "execution_count": 6,
     "metadata": {},
     "output_type": "execute_result"
    }
   ],
   "source": [
    "words[:100]"
   ]
  },
  {
   "cell_type": "markdown",
   "metadata": {
    "deletable": true,
    "editable": true
   },
   "source": [
    "### Encoding the words\n",
    "\n",
    "The embedding lookup requires that we pass in integers to our network. The easiest way to do this is to create dictionaries that map the words in the vocabulary to integers. Then we can convert each of our reviews into integers so they can be passed into the network.\n",
    "\n",
    "> **Exercise:** Now you're going to encode the words with integers. Build a dictionary that maps words to integers. Later we're going to pad our input vectors with zeros, so make sure the integers **start at 1, not 0**.\n",
    "> Also, convert the reviews to integers and store the reviews in a new list called `reviews_ints`. "
   ]
  },
  {
   "cell_type": "code",
   "execution_count": 7,
   "metadata": {
    "collapsed": false,
    "deletable": true,
    "editable": true
   },
   "outputs": [
    {
     "data": {
      "text/plain": [
       "['bromwell high is a cartoon comedy  it ran at the same time as some other programs about school life  such as  teachers   my   years in the teaching profession lead me to believe that bromwell high  s satire is much closer to reality than is  teachers   the scramble to survive financially  the insightful students who can see right through their pathetic teachers  pomp  the pettiness of the whole situation  all remind me of the schools i knew and their students  when i saw the episode in which a student repeatedly tried to burn down the school  i immediately recalled          at           high  a classic line inspector i  m here to sack one of your teachers  student welcome to bromwell high  i expect that many adults of my age think that bromwell high is far fetched  what a pity that it isn  t   ',\n",
       " 'story of a man who has unnatural feelings for a pig  starts out with a opening scene that is a terrific example of absurd comedy  a formal orchestra audience is turned into an insane  violent mob by the crazy chantings of it  s singers  unfortunately it stays absurd the whole time with no general narrative eventually making it just too off putting  even those from the era should be turned off  the cryptic dialogue would make shakespeare seem easy to a third grader  on a technical level it  s better than you might think with some good cinematography by future great vilmos zsigmond  future stars sally kirkland and frederic forrest can be seen briefly   ']"
      ]
     },
     "execution_count": 7,
     "metadata": {},
     "output_type": "execute_result"
    }
   ],
   "source": [
    "reviews[:2]"
   ]
  },
  {
   "cell_type": "code",
   "execution_count": 38,
   "metadata": {
    "collapsed": false,
    "deletable": true,
    "editable": true
   },
   "outputs": [
    {
     "name": "stdout",
     "output_type": "stream",
     "text": [
      "Counter({'fgh': 2, 'dfg': 2, 'kjg': 2, 'ert': 1, 'qwe': 1, 'yui': 1})\n",
      "[(1, 'fgh'), (2, 'ert'), (3, 'qwe'), (4, 'yui'), (5, 'dfg'), (6, 'kjg')]\n",
      "1\n",
      "['fgh', 'dfg', 'kjg', 'ert', 'qwe', 'yui']\n",
      "{'fgh': 1, 'ert': 4, 'qwe': 5, 'yui': 6, 'dfg': 2, 'kjg': 3}\n"
     ]
    }
   ],
   "source": [
    "from collections import Counter\n",
    "words_dummy = ['qwe','ert','yui', 'fgh', 'dfg', 'kjg','fgh', 'dfg', 'kjg']\n",
    "counts_dummy = Counter(words_dummy)\n",
    "print(counts_dummy)\n",
    "v = enumerate(counts_dummy,1)\n",
    "print(list(v))\n",
    "print(counts_dummy.get('qwe'))\n",
    "\n",
    "vocab_dummy = sorted(counts_dummy, key=counts_dummy.get, reverse=True)\n",
    "vocab_to_int_dummy = {word: ii for ii, word in enumerate(vocab_dummy, 1)}\n",
    "print(vocab_dummy)\n",
    "print(vocab_to_int_dummy)"
   ]
  },
  {
   "cell_type": "code",
   "execution_count": 9,
   "metadata": {
    "collapsed": true,
    "deletable": true,
    "editable": true
   },
   "outputs": [],
   "source": [
    "\n",
    "counts = Counter(words)\n",
    "vocab = sorted(counts, key=counts.get, reverse=True)\n",
    "vocab_to_int = {word: ii for ii, word in enumerate(vocab, 1)}\n",
    "\n",
    "reviews_ints = []\n",
    "for each in reviews:\n",
    "    reviews_ints.append([vocab_to_int[word] for word in each.split()])"
   ]
  },
  {
   "cell_type": "code",
   "execution_count": 10,
   "metadata": {
    "collapsed": false,
    "deletable": true,
    "editable": true
   },
   "outputs": [],
   "source": [
    "labels = labels.split('\\n')\n",
    "labels = np.array([1 if each == 'positive' else 0 for each in labels])"
   ]
  },
  {
   "cell_type": "markdown",
   "metadata": {
    "collapsed": false,
    "deletable": true,
    "editable": true
   },
   "source": [
    "### Encoding the labels\n",
    "\n",
    "Our labels are \"positive\" or \"negative\". To use these labels in our network, we need to convert them to 0 and 1.\n",
    "\n",
    "> **Exercise:** Convert labels from `positive` and `negative` to 1 and 0, respectively."
   ]
  },
  {
   "cell_type": "code",
   "execution_count": 11,
   "metadata": {
    "collapsed": false,
    "deletable": true,
    "editable": true
   },
   "outputs": [
    {
     "name": "stdout",
     "output_type": "stream",
     "text": [
      "Zero-length reviews: 1\n",
      "Maximum review length: 2514\n"
     ]
    }
   ],
   "source": [
    "review_lens = Counter([len(x) for x in reviews_ints])\n",
    "print(\"Zero-length reviews: {}\".format(review_lens[0]))\n",
    "print(\"Maximum review length: {}\".format(max(review_lens)))"
   ]
  },
  {
   "cell_type": "code",
   "execution_count": 12,
   "metadata": {
    "collapsed": false,
    "deletable": true,
    "editable": true
   },
   "outputs": [
    {
     "name": "stdout",
     "output_type": "stream",
     "text": [
      "2514\n",
      "0\n"
     ]
    }
   ],
   "source": [
    "print(max(review_lens))\n",
    "print(min(review_lens))\n",
    "# max?"
   ]
  },
  {
   "cell_type": "markdown",
   "metadata": {
    "deletable": true,
    "editable": true
   },
   "source": [
    "Okay, a couple issues here. We seem to have one review with zero length. And, the maximum review length is way too many steps for our RNN. Let's truncate to 200 steps. For reviews shorter than 200, we'll pad with 0s. For reviews longer than 200, we can truncate them to the first 200 characters.\n",
    "\n",
    "> **Exercise:** First, remove the review with zero length from the `reviews_ints` list."
   ]
  },
  {
   "cell_type": "code",
   "execution_count": 13,
   "metadata": {
    "collapsed": false,
    "deletable": true,
    "editable": true
   },
   "outputs": [],
   "source": [
    "# Filter out that review with 0 length\n",
    "reviews_ints = [each for each in reviews_ints if len(each) > 0]"
   ]
  },
  {
   "cell_type": "markdown",
   "metadata": {
    "deletable": true,
    "editable": true
   },
   "source": [
    "> **Exercise:** Now, create an array `features` that contains the data we'll pass to the network. The data should come from `review_ints`, since we want to feed integers to the network. Each row should be 200 elements long. For reviews shorter than 200 words, left pad with 0s. That is, if the review is `['best', 'movie', 'ever']`, `[117, 18, 128]` as integers, the row will look like `[0, 0, 0, ..., 0, 117, 18, 128]`. For reviews longer than 200, use on the first 200 words as the feature vector.\n",
    "\n",
    "This isn't trivial and there are a bunch of ways to do this. But, if you're going to be building your own deep learning networks, you're going to have to get used to preparing your data.\n",
    "\n"
   ]
  },
  {
   "cell_type": "code",
   "execution_count": 14,
   "metadata": {
    "collapsed": false,
    "deletable": true,
    "editable": true
   },
   "outputs": [],
   "source": [
    "seq_len = 200\n",
    "features = np.zeros((len(reviews), seq_len), dtype=int)\n",
    "for i, row in enumerate(reviews_ints):\n",
    "    features[i, -len(row):] = np.array(row)[:seq_len]"
   ]
  },
  {
   "cell_type": "code",
   "execution_count": 15,
   "metadata": {
    "collapsed": false,
    "deletable": true,
    "editable": true
   },
   "outputs": [
    {
     "data": {
      "text/plain": [
       "array([[    0,     0,     0,     0,     0,     0,     0,     0,     0,\n",
       "            0,     0,     0,     0,     0,     0,     0,     0,     0,\n",
       "            0,     0,     0,     0,     0,     0,     0,     0,     0,\n",
       "            0,     0,     0,     0,     0,     0,     0,     0,     0,\n",
       "            0,     0,     0,     0,     0,     0,     0,     0,     0,\n",
       "            0,     0,     0,     0,     0,     0,     0,     0,     0,\n",
       "            0,     0,     0,     0,     0,     0, 22003,   308,     6,\n",
       "            3,  1051,   207,     8,  2138,    32,     1,   171,    57,\n",
       "           15,    49,    81,  5796,    44,   382,   110,   140,    15,\n",
       "         5235,    60,   154,     9,     1,  4987,  5877,   475,    71,\n",
       "            5,   260,    12, 22003,   308,    13,  1979,     6,    74,\n",
       "         2395],\n",
       "       [    0,     0,     0,     0,     0,     0,     0,     0,     0,\n",
       "            0,     0,     0,     0,     0,     0,     0,     0,     0,\n",
       "            0,     0,     0,     0,     0,     0,     0,     0,     0,\n",
       "            0,     0,     0,     0,     0,     0,     0,     0,     0,\n",
       "            0,     0,     0,     0,     0,     0,     0,     0,     0,\n",
       "            0,     0,     0,     0,     0,     0,     0,     0,     0,\n",
       "            0,     0,     0,     0,     0,     0,     0,     0,     0,\n",
       "            0,     0,     0,     0,     0,     0,     0,     0,     0,\n",
       "            0,     0,     0,     0,     0,     0,     0,     0,     0,\n",
       "            0,     0,     0,     0,     0,    63,     4,     3,   125,\n",
       "           36,    47,  7537,  1398,    16,     3,  4188,   505,    45,\n",
       "           17],\n",
       "       [23872,    42, 73435,    15,   707, 17646,  3401,    47,    77,\n",
       "           35,  1819,    16,   154,    19,   114,     3,  1309,     5,\n",
       "          336,   147,    22,     1,   857,    12,    70,   281,  1171,\n",
       "          399,    36,   120,   283,    38,   169,     5,   382,   158,\n",
       "           42,  2279,    16,     1,   541,    90,    78,   102,     4,\n",
       "            1,  3263,    15,    43,     3,   408,  1068,   136,  8059,\n",
       "           44,   182,   140,    15,  3050,     1,   320,    22,  4840,\n",
       "        27526,   346,     5,  3090,  2096,     1, 18926, 18555,    42,\n",
       "         8059,    46,    33,   236,    29,   370,     5,   130,    56,\n",
       "           22,     1,  1928,     7,     7,    19,    48,    46,    21,\n",
       "           70,   344,     3,  2104,     5,   407,    22,     1,  1928,\n",
       "           16],\n",
       "       [ 4536,   505,    15,     3,  3341,   162,  8325,  1655,     6,\n",
       "         4859,    56,    17,  4514,  5650,   140, 11870,     5,   997,\n",
       "         4934,  2933,  4496,   566,  1199,    36,     6,  1520,    96,\n",
       "            3,   744,     4, 28008,    13,     5,    27,  3482,     9,\n",
       "        10747,     4,     8,   111,  3018,     5,     1,  1027,    15,\n",
       "            3,  4415,    82,    22,  2050,     6,  4496,   538,  2773,\n",
       "         7158, 45372,    41,   463,     1,  8325, 58066,   302,   123,\n",
       "           15,  4237,    19,  1671,   922,     1,  1655,     6,  6132,\n",
       "        20933,    34,     1,   980,  1760, 23579,   646, 24584,    27,\n",
       "          106, 11818,    13, 14048, 15338, 18203,  2464,   466, 22295,\n",
       "           36,  3283,     1,  6396,  1020,    45,    17,  2698,  2500,\n",
       "           33],\n",
       "       [    0,     0,     0,     0,     0,     0,     0,     0,     0,\n",
       "            0,     0,     0,     0,     0,     0,     0,     0,     0,\n",
       "            0,     0,     0,     0,     0,     0,     0,     0,     0,\n",
       "            0,     0,     0,     0,     0,     0,     0,     0,     0,\n",
       "            0,     0,     0,     0,     0,     0,     0,     0,     0,\n",
       "            0,     0,     0,     0,     0,   520,   119,   113,    34,\n",
       "        16482,  1818,  3742,   117,   885, 21448,   721,    10,    28,\n",
       "          124,   108,     2,   115,   137,     9,  1623,  7812,    26,\n",
       "          330,     5,   589,     1,  6137,    22,   386,     6,     3,\n",
       "          349,    15,    50,    15,   231,     9,  7520, 11581,     1,\n",
       "          191,    22,  9065,     6,    82,   879,   101,   111,  3589,\n",
       "            4],\n",
       "       [    0,     0,     0,     0,     0,     0,     0,     0,     0,\n",
       "            0,     0,     0,     0,     0,     0,     0,     0,     0,\n",
       "            0,     0,     0,     0,     0,     0,     0,     0,     0,\n",
       "            0,     0,     0,     0,     0,     0,     0,     0,     0,\n",
       "            0,     0,     0,     0,     0,     0,     0,     0,     0,\n",
       "            0,     0,     0,     0,     0,     0,     0,     0,     0,\n",
       "           11,    20,  3664,   141,    10,   423,    23,   272,    60,\n",
       "         4375,    22,    32,    84,  3295,    22,     1,   172,     4,\n",
       "            1,   952,   506,    11,  4988,  5391,     5,   574,     4,\n",
       "         1155,    54,    53,  5357,     1,   261,    17,    41,   952,\n",
       "          125,    59,     1,   711,   137,   379,   627,    15,   111,\n",
       "         1509],\n",
       "       [    0,     0,     0,     0,     0,     0,     0,     0,     0,\n",
       "            0,     0,     0,     0,     0,     0,     0,     0,     0,\n",
       "            0,     0,     0,     0,     0,     0,     0,     0,     0,\n",
       "            0,     0,     0,     0,     0,     0,     0,     0,     0,\n",
       "            0,     0,     0,     0,     0,     0,     0,     0,     0,\n",
       "            0,     0,     0,     0,     0,     0,     0,     0,     0,\n",
       "            0,     0,     0,     0,     0,     0,     0,     0,     0,\n",
       "            0,     0,     0,     0,     0,     0,     0,     0,     0,\n",
       "            0,     0,     0,     0,    11,     6,   693,     1,    90,\n",
       "         2158,    20, 11830,     1,  2820,  5228,   249,    92,  3008,\n",
       "            8,   126,    24,   201,     3,   802,   634,     4, 23872,\n",
       "         1001],\n",
       "       [    0,     0,     0,     0,     0,     0,     0,     0,     0,\n",
       "            0,     0,     0,     0,     0,     0,     0,     0,     0,\n",
       "            0,     0,     0,     0,     0,     0,     0,     0,     0,\n",
       "            0,     0,     0,     0,     0,     0,     0,     0,     0,\n",
       "            0,     0,     0,     0,     0,     0,     0,     0,     0,\n",
       "            0,     0,   786,   295,    10,   122,    11,     6,   418,\n",
       "            5,    29,    35,   482,    20,    19,  1282,    33,   142,\n",
       "           28,  2660,    45,  1841,    32,     1,  2791,    37,    78,\n",
       "           97,  2436,    67,  3957,    45,     2,    24,   105,   256,\n",
       "            1,   134,  1573,     2, 12677,   451,    14,   319,    11,\n",
       "           63,     6,    98,  1321,     5,   105,     1,  3786,     4,\n",
       "            3],\n",
       "       [    0,     0,     0,     0,     0,     0,     0,     0,     0,\n",
       "            0,     0,     0,     0,     0,     0,     0,     0,     0,\n",
       "            0,     0,     0,     0,     0,     0,     0,     0,     0,\n",
       "            0,     0,     0,     0,     0,     0,     0,     0,     0,\n",
       "            0,     0,     0,     0,     0,     0,     0,     0,     0,\n",
       "            0,     0,     0,     0,     0,     0,     0,     0,     0,\n",
       "            0,     0,     0,     0,     0,     0,     0,     0,     0,\n",
       "            0,     0,     0,     0,     0,     0,     0,     0,     0,\n",
       "            0,     0,     0,     0,     0,     0,     0,    11,     6,\n",
       "           24,     1,   779,  3691,  2820,    20,     8,    14,    74,\n",
       "          325,  2737,    73,    90,     4,    27,    99,     2,   165,\n",
       "           68],\n",
       "       [   54,    10,    14,   116,    60,   798,   552,    71,   364,\n",
       "            5,     1,   731,     5,    66,  8120,     8,    14,    30,\n",
       "            4,   109,    99,    10,   293,    17,    60,   798,    19,\n",
       "           11,    14,     1,    64,    30,    69,  2506,    45,     4,\n",
       "          234,    93,    10,    68,   114,   108,  8120,   363,    43,\n",
       "         1009,     2,    10,    97,    28,  1431,    45,     1,   357,\n",
       "            4,    60,   110,   205,     8,    48,     3,  1930, 10962,\n",
       "            2,  2128,   354,   412,     4,    13,  6619,     2,  2974,\n",
       "         5191,  2123,  1366,     6,    30,     4,    60,   502,   876,\n",
       "           19,  8120,     6,    34,   227,     1,   247,   412,     4,\n",
       "          582,     4,    27,   599,     9,     1, 13740,   395,     4,\n",
       "        14408]])"
      ]
     },
     "execution_count": 15,
     "metadata": {},
     "output_type": "execute_result"
    }
   ],
   "source": [
    "features[:10,:100]"
   ]
  },
  {
   "cell_type": "markdown",
   "metadata": {
    "deletable": true,
    "editable": true
   },
   "source": [
    "## Training, Validation, Test\n",
    "\n"
   ]
  },
  {
   "cell_type": "markdown",
   "metadata": {
    "deletable": true,
    "editable": true
   },
   "source": [
    "With our data in nice shape, we'll split it into training, validation, and test sets.\n",
    "\n",
    "> **Exercise:** Create the training, validation, and test sets here. You'll need to create sets for the features and the labels, `train_x` and `train_y` for example. Define a split fraction, `split_frac` as the fraction of data to keep in the training set. Usually this is set to 0.8 or 0.9. The rest of the data will be split in half to create the validation and testing data."
   ]
  },
  {
   "cell_type": "code",
   "execution_count": 16,
   "metadata": {
    "collapsed": false,
    "deletable": true,
    "editable": true
   },
   "outputs": [
    {
     "name": "stdout",
     "output_type": "stream",
     "text": [
      "\t\t\tFeature Shapes:\n",
      "Train set: \t\t(20000, 200) \n",
      "Validation set: \t(2500, 200) \n",
      "Test set: \t\t(2501, 200)\n"
     ]
    }
   ],
   "source": [
    "split_frac = 0.8\n",
    "split_idx = int(len(features)*0.8)\n",
    "train_x, val_x = features[:split_idx], features[split_idx:]\n",
    "train_y, val_y = labels[:split_idx], labels[split_idx:]\n",
    "\n",
    "test_idx = int(len(val_x)*0.5)\n",
    "val_x, test_x = val_x[:test_idx], val_x[test_idx:]\n",
    "val_y, test_y = val_y[:test_idx], val_y[test_idx:]\n",
    "\n",
    "print(\"\\t\\t\\tFeature Shapes:\")\n",
    "print(\"Train set: \\t\\t{}\".format(train_x.shape), \n",
    "      \"\\nValidation set: \\t{}\".format(val_x.shape),\n",
    "      \"\\nTest set: \\t\\t{}\".format(test_x.shape))"
   ]
  },
  {
   "cell_type": "markdown",
   "metadata": {
    "deletable": true,
    "editable": true
   },
   "source": [
    "With train, validation, and text fractions of 0.8, 0.1, 0.1, the final shapes should look like:\n",
    "```\n",
    "                    Feature Shapes:\n",
    "Train set: \t\t (20000, 200) \n",
    "Validation set: \t(2500, 200) \n",
    "Test set: \t\t  (2501, 200)\n",
    "```"
   ]
  },
  {
   "cell_type": "markdown",
   "metadata": {
    "deletable": true,
    "editable": true
   },
   "source": [
    "## Build the graph\n",
    "\n",
    "Here, we'll build the graph. First up, defining the hyperparameters.\n",
    "\n",
    "* `lstm_size`: Number of units in the hidden layers in the LSTM cells. Usually larger is better performance wise. Common values are 128, 256, 512, etc.\n",
    "* `lstm_layers`: Number of LSTM layers in the network. I'd start with 1, then add more if I'm underfitting.\n",
    "* `batch_size`: The number of reviews to feed the network in one training pass. Typically this should be set as high as you can go without running out of memory.\n",
    "* `learning_rate`: Learning rate"
   ]
  },
  {
   "cell_type": "code",
   "execution_count": 17,
   "metadata": {
    "collapsed": true,
    "deletable": true,
    "editable": true
   },
   "outputs": [],
   "source": [
    "lstm_size = 256\n",
    "lstm_layers = 1\n",
    "batch_size = 250\n",
    "learning_rate = 0.001"
   ]
  },
  {
   "cell_type": "markdown",
   "metadata": {
    "deletable": true,
    "editable": true
   },
   "source": [
    "For the network itself, we'll be passing in our 200 element long review vectors. Each batch will be `batch_size` vectors. We'll also be using dropout on the LSTM layer, so we'll make a placeholder for the keep probability."
   ]
  },
  {
   "cell_type": "markdown",
   "metadata": {
    "deletable": true,
    "editable": true
   },
   "source": [
    "> **Exercise:** Create the `inputs_`, `labels_`, and drop out `keep_prob` placeholders using `tf.placeholder`. `labels_` needs to be two-dimensional to work with some functions later.  Since `keep_prob` is a scalar (a 0-dimensional tensor), you shouldn't provide a size to `tf.placeholder`."
   ]
  },
  {
   "cell_type": "code",
   "execution_count": 18,
   "metadata": {
    "collapsed": false,
    "deletable": true,
    "editable": true
   },
   "outputs": [],
   "source": [
    "n_words = len(vocab)\n",
    "\n",
    "# Create the graph object\n",
    "graph = tf.Graph()\n",
    "# Add nodes to the graph\n",
    "with graph.as_default():\n",
    "    inputs_ = tf.placeholder(tf.int32, [None, None], name='inputs')\n",
    "    labels_ = tf.placeholder(tf.int32, [None, None], name='labels')\n",
    "    keep_prob = tf.placeholder(tf.float32, name='keep_prob')"
   ]
  },
  {
   "cell_type": "markdown",
   "metadata": {
    "deletable": true,
    "editable": true
   },
   "source": [
    "### Embedding\n",
    "\n",
    "Now we'll add an embedding layer. We need to do this because there are 74000 words in our vocabulary. It is massively inefficient to one-hot encode our classes here. You should remember dealing with this problem from the word2vec lesson. Instead of one-hot encoding, we can have an embedding layer and use that layer as a lookup table. You could train an embedding layer using word2vec, then load it here. But, it's fine to just make a new layer and let the network learn the weights.\n",
    "\n",
    "> **Exercise:** Create the embedding lookup matrix as a `tf.Variable`. Use that embedding matrix to get the embedded vectors to pass to the LSTM cell with [`tf.nn.embedding_lookup`](https://www.tensorflow.org/api_docs/python/tf/nn/embedding_lookup). This function takes the embedding matrix and an input tensor, such as the review vectors. Then, it'll return another tensor with the embedded vectors. So, if the embedding layer as 200 units, the function will return a tensor with size [batch_size, 200].\n",
    "\n"
   ]
  },
  {
   "cell_type": "code",
   "execution_count": 19,
   "metadata": {
    "collapsed": false,
    "deletable": true,
    "editable": true
   },
   "outputs": [],
   "source": [
    "# Size of the embedding vectors (number of units in the embedding layer)\n",
    "embed_size = 300 \n",
    "\n",
    "with graph.as_default():\n",
    "    embedding = tf.Variable(tf.random_uniform((n_words, embed_size), -1, 1))\n",
    "    embed = tf.nn.embedding_lookup(embedding, inputs_)"
   ]
  },
  {
   "cell_type": "markdown",
   "metadata": {
    "deletable": true,
    "editable": true
   },
   "source": [
    "### LSTM cell\n",
    "\n",
    "<img src=\"assets/network_diagram.png\" width=400px>\n",
    "\n",
    "Next, we'll create our LSTM cells to use in the recurrent network ([TensorFlow documentation](https://www.tensorflow.org/api_docs/python/tf/contrib/rnn)). Here we are just defining what the cells look like. This isn't actually building the graph, just defining the type of cells we want in our graph.\n",
    "\n",
    "To create a basic LSTM cell for the graph, you'll want to use `tf.contrib.rnn.BasicLSTMCell`. Looking at the function documentation:\n",
    "\n",
    "```\n",
    "tf.contrib.rnn.BasicLSTMCell(num_units, forget_bias=1.0, input_size=None, state_is_tuple=True, activation=<function tanh at 0x109f1ef28>)\n",
    "```\n",
    "\n",
    "you can see it takes a parameter called `num_units`, the number of units in the cell, called `lstm_size` in this code. So then, you can write something like \n",
    "\n",
    "```\n",
    "lstm = tf.contrib.rnn.BasicLSTMCell(num_units)\n",
    "```\n",
    "\n",
    "to create an LSTM cell with `num_units`. Next, you can add dropout to the cell with `tf.contrib.rnn.DropoutWrapper`. This just wraps the cell in another cell, but with dropout added to the inputs and/or outputs. It's a really convenient way to make your network better with almost no effort! So you'd do something like\n",
    "\n",
    "```\n",
    "drop = tf.contrib.rnn.DropoutWrapper(cell, output_keep_prob=keep_prob)\n",
    "```\n",
    "\n",
    "Most of the time, you're network will have better performance with more layers. That's sort of the magic of deep learning, adding more layers allows the network to learn really complex relationships. Again, there is a simple way to create multiple layers of LSTM cells with `tf.contrib.rnn.MultiRNNCell`:\n",
    "\n",
    "```\n",
    "cell = tf.contrib.rnn.MultiRNNCell([drop] * lstm_layers)\n",
    "```\n",
    "\n",
    "Here, `[drop] * lstm_layers` creates a list of cells (`drop`) that is `lstm_layers` long. The `MultiRNNCell` wrapper builds this into multiple layers of RNN cells, one for each cell in the list.\n",
    "\n",
    "So the final cell you're using in the network is actually multiple (or just one) LSTM cells with dropout. But it all works the same from an achitectural viewpoint, just a more complicated graph in the cell.\n",
    "\n",
    "> **Exercise:** Below, use `tf.contrib.rnn.BasicLSTMCell` to create an LSTM cell. Then, add drop out to it with `tf.contrib.rnn.DropoutWrapper`. Finally, create multiple LSTM layers with `tf.contrib.rnn.MultiRNNCell`.\n",
    "\n",
    "Here is [a tutorial on building RNNs](https://www.tensorflow.org/tutorials/recurrent) that will help you out.\n"
   ]
  },
  {
   "cell_type": "code",
   "execution_count": 20,
   "metadata": {
    "collapsed": false,
    "deletable": true,
    "editable": true
   },
   "outputs": [],
   "source": [
    "with graph.as_default():\n",
    "    # Your basic LSTM cell\n",
    "    lstm = tf.contrib.rnn.BasicLSTMCell(lstm_size)\n",
    "    \n",
    "    # Add dropout to the cell\n",
    "    drop = tf.contrib.rnn.DropoutWrapper(lstm, output_keep_prob=keep_prob)\n",
    "    \n",
    "    # Stack up multiple LSTM layers, for deep learning\n",
    "    cell = tf.contrib.rnn.MultiRNNCell([drop] * lstm_layers)\n",
    "    \n",
    "    # Getting an initial state of all zeros\n",
    "    initial_state = cell.zero_state(batch_size, tf.float32)"
   ]
  },
  {
   "cell_type": "markdown",
   "metadata": {
    "deletable": true,
    "editable": true
   },
   "source": [
    "### RNN forward pass\n",
    "\n",
    "<img src=\"assets/network_diagram.png\" width=400px>\n",
    "\n",
    "Now we need to actually run the data through the RNN nodes. You can use [`tf.nn.dynamic_rnn`](https://www.tensorflow.org/api_docs/python/tf/nn/dynamic_rnn) to do this. You'd pass in the RNN cell you created (our multiple layered LSTM `cell` for instance), and the inputs to the network.\n",
    "\n",
    "```\n",
    "outputs, final_state = tf.nn.dynamic_rnn(cell, inputs, initial_state=initial_state)\n",
    "```\n",
    "\n",
    "Above I created an initial state, `initial_state`, to pass to the RNN. This is the cell state that is passed between the hidden layers in successive time steps. `tf.nn.dynamic_rnn` takes care of most of the work for us. We pass in our cell and the input to the cell, then it does the unrolling and everything else for us. It returns outputs for each time step and the final_state of the hidden layer.\n",
    "\n",
    "> **Exercise:** Use `tf.nn.dynamic_rnn` to add the forward pass through the RNN. Remember that we're actually passing in vectors from the embedding layer, `embed`.\n",
    "\n"
   ]
  },
  {
   "cell_type": "code",
   "execution_count": 21,
   "metadata": {
    "collapsed": false,
    "deletable": true,
    "editable": true
   },
   "outputs": [],
   "source": [
    "with graph.as_default():\n",
    "    outputs, final_state = tf.nn.dynamic_rnn(cell, embed,\n",
    "                                             initial_state=initial_state)"
   ]
  },
  {
   "cell_type": "markdown",
   "metadata": {
    "deletable": true,
    "editable": true
   },
   "source": [
    "### Output\n",
    "\n",
    "We only care about the final output, we'll be using that as our sentiment prediction. So we need to grab the last output with `outputs[:, -1]`, the calculate the cost from that and `labels_`."
   ]
  },
  {
   "cell_type": "code",
   "execution_count": 22,
   "metadata": {
    "collapsed": false,
    "deletable": true,
    "editable": true
   },
   "outputs": [],
   "source": [
    "with graph.as_default():\n",
    "    predictions = tf.contrib.layers.fully_connected(outputs[:, -1], 1, activation_fn=tf.sigmoid)\n",
    "    cost = tf.losses.mean_squared_error(labels_, predictions)\n",
    "    \n",
    "    optimizer = tf.train.AdamOptimizer(learning_rate).minimize(cost)"
   ]
  },
  {
   "cell_type": "markdown",
   "metadata": {
    "deletable": true,
    "editable": true
   },
   "source": [
    "### Validation accuracy\n",
    "\n",
    "Here we can add a few nodes to calculate the accuracy which we'll use in the validation pass."
   ]
  },
  {
   "cell_type": "code",
   "execution_count": 23,
   "metadata": {
    "collapsed": false,
    "deletable": true,
    "editable": true
   },
   "outputs": [],
   "source": [
    "with graph.as_default():\n",
    "    correct_pred = tf.equal(tf.cast(tf.round(predictions), tf.int32), labels_)\n",
    "    accuracy = tf.reduce_mean(tf.cast(correct_pred, tf.float32))"
   ]
  },
  {
   "cell_type": "markdown",
   "metadata": {
    "deletable": true,
    "editable": true
   },
   "source": [
    "### Batching\n",
    "\n",
    "This is a simple function for returning batches from our data. First it removes data such that we only have full batches. Then it iterates through the `x` and `y` arrays and returns slices out of those arrays with size `[batch_size]`."
   ]
  },
  {
   "cell_type": "code",
   "execution_count": 24,
   "metadata": {
    "collapsed": true,
    "deletable": true,
    "editable": true
   },
   "outputs": [],
   "source": [
    "def get_batches(x, y, batch_size=100):\n",
    "    \n",
    "    n_batches = len(x)//batch_size\n",
    "    x, y = x[:n_batches*batch_size], y[:n_batches*batch_size]\n",
    "    for ii in range(0, len(x), batch_size):\n",
    "        yield x[ii:ii+batch_size], y[ii:ii+batch_size]"
   ]
  },
  {
   "cell_type": "markdown",
   "metadata": {
    "deletable": true,
    "editable": true
   },
   "source": [
    "## Training\n",
    "\n",
    "Below is the typical training code. If you want to do this yourself, feel free to delete all this code and implement it yourself. Before you run this, make sure the `checkpoints` directory exists."
   ]
  },
  {
   "cell_type": "code",
   "execution_count": 25,
   "metadata": {
    "collapsed": false,
    "deletable": true,
    "editable": true
   },
   "outputs": [
    {
     "name": "stdout",
     "output_type": "stream",
     "text": [
      "Epoch: 0/10 Iteration: 5 Train loss: 0.252\n",
      "Epoch: 0/10 Iteration: 10 Train loss: 0.234\n",
      "Epoch: 0/10 Iteration: 15 Train loss: 0.243\n",
      "Epoch: 0/10 Iteration: 20 Train loss: 0.219\n",
      "Epoch: 0/10 Iteration: 25 Train loss: 0.198\n",
      "Val acc: 0.655\n",
      "Epoch: 0/10 Iteration: 30 Train loss: 0.207\n",
      "Epoch: 0/10 Iteration: 35 Train loss: 0.194\n",
      "Epoch: 0/10 Iteration: 40 Train loss: 0.170\n",
      "Epoch: 0/10 Iteration: 45 Train loss: 0.184\n",
      "Epoch: 0/10 Iteration: 50 Train loss: 0.178\n",
      "Val acc: 0.738\n",
      "Epoch: 0/10 Iteration: 55 Train loss: 0.236\n",
      "Epoch: 0/10 Iteration: 60 Train loss: 0.222\n",
      "Epoch: 0/10 Iteration: 65 Train loss: 0.217\n",
      "Epoch: 0/10 Iteration: 70 Train loss: 0.222\n",
      "Epoch: 0/10 Iteration: 75 Train loss: 0.162\n",
      "Val acc: 0.758\n",
      "Epoch: 0/10 Iteration: 80 Train loss: 0.178\n",
      "Epoch: 1/10 Iteration: 85 Train loss: 0.154\n",
      "Epoch: 1/10 Iteration: 90 Train loss: 0.175\n",
      "Epoch: 1/10 Iteration: 95 Train loss: 0.147\n",
      "Epoch: 1/10 Iteration: 100 Train loss: 0.149\n",
      "Val acc: 0.803\n",
      "Epoch: 1/10 Iteration: 105 Train loss: 0.186\n",
      "Epoch: 1/10 Iteration: 110 Train loss: 0.160\n",
      "Epoch: 1/10 Iteration: 115 Train loss: 0.170\n",
      "Epoch: 1/10 Iteration: 120 Train loss: 0.207\n",
      "Epoch: 1/10 Iteration: 125 Train loss: 0.171\n",
      "Val acc: 0.726\n",
      "Epoch: 1/10 Iteration: 130 Train loss: 0.150\n",
      "Epoch: 1/10 Iteration: 135 Train loss: 0.154\n",
      "Epoch: 1/10 Iteration: 140 Train loss: 0.151\n",
      "Epoch: 1/10 Iteration: 145 Train loss: 0.124\n",
      "Epoch: 1/10 Iteration: 150 Train loss: 0.120\n",
      "Val acc: 0.799\n",
      "Epoch: 1/10 Iteration: 155 Train loss: 0.103\n",
      "Epoch: 1/10 Iteration: 160 Train loss: 0.142\n",
      "Epoch: 2/10 Iteration: 165 Train loss: 0.120\n",
      "Epoch: 2/10 Iteration: 170 Train loss: 0.133\n",
      "Epoch: 2/10 Iteration: 175 Train loss: 0.120\n",
      "Val acc: 0.789\n",
      "Epoch: 2/10 Iteration: 180 Train loss: 0.110\n",
      "Epoch: 2/10 Iteration: 185 Train loss: 0.085\n",
      "Epoch: 2/10 Iteration: 190 Train loss: 0.104\n",
      "Epoch: 2/10 Iteration: 195 Train loss: 0.095\n",
      "Epoch: 2/10 Iteration: 200 Train loss: 0.113\n",
      "Val acc: 0.833\n",
      "Epoch: 2/10 Iteration: 205 Train loss: 0.111\n",
      "Epoch: 2/10 Iteration: 210 Train loss: 0.098\n",
      "Epoch: 2/10 Iteration: 215 Train loss: 0.108\n",
      "Epoch: 2/10 Iteration: 220 Train loss: 0.086\n",
      "Epoch: 2/10 Iteration: 225 Train loss: 0.105\n",
      "Val acc: 0.834\n",
      "Epoch: 2/10 Iteration: 230 Train loss: 0.132\n",
      "Epoch: 2/10 Iteration: 235 Train loss: 0.169\n",
      "Epoch: 2/10 Iteration: 240 Train loss: 0.214\n",
      "Epoch: 3/10 Iteration: 245 Train loss: 0.161\n",
      "Epoch: 3/10 Iteration: 250 Train loss: 0.191\n",
      "Val acc: 0.684\n",
      "Epoch: 3/10 Iteration: 255 Train loss: 0.193\n",
      "Epoch: 3/10 Iteration: 260 Train loss: 0.162\n",
      "Epoch: 3/10 Iteration: 265 Train loss: 0.143\n",
      "Epoch: 3/10 Iteration: 270 Train loss: 0.146\n",
      "Epoch: 3/10 Iteration: 275 Train loss: 0.196\n",
      "Val acc: 0.694\n",
      "Epoch: 3/10 Iteration: 280 Train loss: 0.168\n",
      "Epoch: 3/10 Iteration: 285 Train loss: 0.109\n",
      "Epoch: 3/10 Iteration: 290 Train loss: 0.143\n",
      "Epoch: 3/10 Iteration: 295 Train loss: 0.143\n",
      "Epoch: 3/10 Iteration: 300 Train loss: 0.155\n",
      "Val acc: 0.726\n",
      "Epoch: 3/10 Iteration: 305 Train loss: 0.142\n",
      "Epoch: 3/10 Iteration: 310 Train loss: 0.122\n",
      "Epoch: 3/10 Iteration: 315 Train loss: 0.096\n",
      "Epoch: 3/10 Iteration: 320 Train loss: 0.118\n",
      "Epoch: 4/10 Iteration: 325 Train loss: 0.204\n",
      "Val acc: 0.704\n",
      "Epoch: 4/10 Iteration: 330 Train loss: 0.166\n",
      "Epoch: 4/10 Iteration: 335 Train loss: 0.146\n",
      "Epoch: 4/10 Iteration: 340 Train loss: 0.133\n",
      "Epoch: 4/10 Iteration: 345 Train loss: 0.130\n",
      "Epoch: 4/10 Iteration: 350 Train loss: 0.111\n",
      "Val acc: 0.760\n",
      "Epoch: 4/10 Iteration: 355 Train loss: 0.149\n",
      "Epoch: 4/10 Iteration: 360 Train loss: 0.394\n",
      "Epoch: 4/10 Iteration: 365 Train loss: 0.311\n",
      "Epoch: 4/10 Iteration: 370 Train loss: 0.234\n",
      "Epoch: 4/10 Iteration: 375 Train loss: 0.221\n",
      "Val acc: 0.569\n",
      "Epoch: 4/10 Iteration: 380 Train loss: 0.219\n",
      "Epoch: 4/10 Iteration: 385 Train loss: 0.216\n",
      "Epoch: 4/10 Iteration: 390 Train loss: 0.204\n",
      "Epoch: 4/10 Iteration: 395 Train loss: 0.200\n",
      "Epoch: 4/10 Iteration: 400 Train loss: 0.197\n",
      "Val acc: 0.640\n",
      "Epoch: 5/10 Iteration: 405 Train loss: 0.173\n",
      "Epoch: 5/10 Iteration: 410 Train loss: 0.172\n",
      "Epoch: 5/10 Iteration: 415 Train loss: 0.160\n",
      "Epoch: 5/10 Iteration: 420 Train loss: 0.130\n",
      "Epoch: 5/10 Iteration: 425 Train loss: 0.148\n",
      "Val acc: 0.747\n",
      "Epoch: 5/10 Iteration: 430 Train loss: 0.115\n",
      "Epoch: 5/10 Iteration: 435 Train loss: 0.274\n",
      "Epoch: 5/10 Iteration: 440 Train loss: 0.461\n",
      "Epoch: 5/10 Iteration: 445 Train loss: 0.451\n",
      "Epoch: 5/10 Iteration: 450 Train loss: 0.381\n",
      "Val acc: 0.500\n",
      "Epoch: 5/10 Iteration: 455 Train loss: 0.263\n",
      "Epoch: 5/10 Iteration: 460 Train loss: 0.282\n",
      "Epoch: 5/10 Iteration: 465 Train loss: 0.268\n",
      "Epoch: 5/10 Iteration: 470 Train loss: 0.255\n",
      "Epoch: 5/10 Iteration: 475 Train loss: 0.263\n",
      "Val acc: 0.508\n",
      "Epoch: 5/10 Iteration: 480 Train loss: 0.247\n",
      "Epoch: 6/10 Iteration: 485 Train loss: 0.240\n",
      "Epoch: 6/10 Iteration: 490 Train loss: 0.247\n",
      "Epoch: 6/10 Iteration: 495 Train loss: 0.245\n",
      "Epoch: 6/10 Iteration: 500 Train loss: 0.237\n",
      "Val acc: 0.576\n",
      "Epoch: 6/10 Iteration: 505 Train loss: 0.243\n",
      "Epoch: 6/10 Iteration: 510 Train loss: 0.236\n",
      "Epoch: 6/10 Iteration: 515 Train loss: 0.231\n",
      "Epoch: 6/10 Iteration: 520 Train loss: 0.228\n",
      "Epoch: 6/10 Iteration: 525 Train loss: 0.215\n",
      "Val acc: 0.648\n",
      "Epoch: 6/10 Iteration: 530 Train loss: 0.205\n",
      "Epoch: 6/10 Iteration: 535 Train loss: 0.187\n",
      "Epoch: 6/10 Iteration: 540 Train loss: 0.171\n",
      "Epoch: 6/10 Iteration: 545 Train loss: 0.168\n",
      "Epoch: 6/10 Iteration: 550 Train loss: 0.165\n",
      "Val acc: 0.669\n",
      "Epoch: 6/10 Iteration: 555 Train loss: 0.171\n",
      "Epoch: 6/10 Iteration: 560 Train loss: 0.128\n",
      "Epoch: 7/10 Iteration: 565 Train loss: 0.125\n",
      "Epoch: 7/10 Iteration: 570 Train loss: 0.103\n",
      "Epoch: 7/10 Iteration: 575 Train loss: 0.030\n",
      "Val acc: 0.566\n",
      "Epoch: 7/10 Iteration: 580 Train loss: 0.012\n",
      "Epoch: 7/10 Iteration: 585 Train loss: 0.007\n",
      "Epoch: 7/10 Iteration: 590 Train loss: 0.097\n",
      "Epoch: 7/10 Iteration: 595 Train loss: 0.152\n",
      "Epoch: 7/10 Iteration: 600 Train loss: 0.228\n",
      "Val acc: 0.590\n",
      "Epoch: 7/10 Iteration: 605 Train loss: 0.106\n",
      "Epoch: 7/10 Iteration: 610 Train loss: 0.061\n",
      "Epoch: 7/10 Iteration: 615 Train loss: 0.023\n",
      "Epoch: 7/10 Iteration: 620 Train loss: 0.015\n",
      "Epoch: 7/10 Iteration: 625 Train loss: 0.007\n",
      "Val acc: 0.678\n",
      "Epoch: 7/10 Iteration: 630 Train loss: 0.006\n",
      "Epoch: 7/10 Iteration: 635 Train loss: 0.009\n",
      "Epoch: 7/10 Iteration: 640 Train loss: 0.007\n",
      "Epoch: 8/10 Iteration: 645 Train loss: 0.161\n",
      "Epoch: 8/10 Iteration: 650 Train loss: 0.089\n",
      "Val acc: 0.601\n",
      "Epoch: 8/10 Iteration: 655 Train loss: 0.095\n",
      "Epoch: 8/10 Iteration: 660 Train loss: 0.098\n",
      "Epoch: 8/10 Iteration: 665 Train loss: 0.092\n",
      "Epoch: 8/10 Iteration: 670 Train loss: 0.100\n",
      "Epoch: 8/10 Iteration: 675 Train loss: 0.099\n",
      "Val acc: 0.562\n",
      "Epoch: 8/10 Iteration: 680 Train loss: 0.102\n",
      "Epoch: 8/10 Iteration: 685 Train loss: 0.101\n",
      "Epoch: 8/10 Iteration: 690 Train loss: 0.100\n",
      "Epoch: 8/10 Iteration: 695 Train loss: 0.101\n",
      "Epoch: 8/10 Iteration: 700 Train loss: 0.100\n",
      "Val acc: 0.705\n",
      "Epoch: 8/10 Iteration: 705 Train loss: 0.097\n",
      "Epoch: 8/10 Iteration: 710 Train loss: 0.091\n",
      "Epoch: 8/10 Iteration: 715 Train loss: 0.096\n",
      "Epoch: 8/10 Iteration: 720 Train loss: 0.088\n",
      "Epoch: 9/10 Iteration: 725 Train loss: 0.081\n",
      "Val acc: 0.779\n",
      "Epoch: 9/10 Iteration: 730 Train loss: 0.089\n",
      "Epoch: 9/10 Iteration: 735 Train loss: 0.081\n",
      "Epoch: 9/10 Iteration: 740 Train loss: 0.095\n",
      "Epoch: 9/10 Iteration: 745 Train loss: 0.057\n",
      "Epoch: 9/10 Iteration: 750 Train loss: 0.051\n",
      "Val acc: 0.658\n",
      "Epoch: 9/10 Iteration: 755 Train loss: 0.023\n",
      "Epoch: 9/10 Iteration: 760 Train loss: 0.020\n",
      "Epoch: 9/10 Iteration: 765 Train loss: 0.019\n",
      "Epoch: 9/10 Iteration: 770 Train loss: 0.020\n",
      "Epoch: 9/10 Iteration: 775 Train loss: 0.018\n",
      "Val acc: 0.526\n",
      "Epoch: 9/10 Iteration: 780 Train loss: 0.011\n",
      "Epoch: 9/10 Iteration: 785 Train loss: 0.008\n",
      "Epoch: 9/10 Iteration: 790 Train loss: 0.002\n",
      "Epoch: 9/10 Iteration: 795 Train loss: 0.001\n",
      "Epoch: 9/10 Iteration: 800 Train loss: 0.001\n",
      "Val acc: 0.648\n"
     ]
    }
   ],
   "source": [
    "epochs = 10\n",
    "\n",
    "with graph.as_default():\n",
    "    saver = tf.train.Saver()\n",
    "\n",
    "with tf.Session(graph=graph) as sess:\n",
    "    sess.run(tf.global_variables_initializer())\n",
    "    iteration = 1\n",
    "    for e in range(epochs):\n",
    "        state = sess.run(initial_state)\n",
    "        \n",
    "        for ii, (x, y) in enumerate(get_batches(train_x, train_y, batch_size), 1):\n",
    "            feed = {inputs_: x,\n",
    "                    labels_: y[:, None],\n",
    "                    keep_prob: 0.5,\n",
    "                    initial_state: state}\n",
    "            loss, state, _ = sess.run([cost, final_state, optimizer], feed_dict=feed)\n",
    "            \n",
    "            if iteration%5==0:\n",
    "                print(\"Epoch: {}/{}\".format(e, epochs),\n",
    "                      \"Iteration: {}\".format(iteration),\n",
    "                      \"Train loss: {:.3f}\".format(loss))\n",
    "\n",
    "            if iteration%25==0:\n",
    "                val_acc = []\n",
    "                val_state = sess.run(cell.zero_state(batch_size, tf.float32))\n",
    "                for x, y in get_batches(val_x, val_y, batch_size):\n",
    "                    feed = {inputs_: x,\n",
    "                            labels_: y[:, None],\n",
    "                            keep_prob: 1,\n",
    "                            initial_state: val_state}\n",
    "                    batch_acc, val_state = sess.run([accuracy, final_state], feed_dict=feed)\n",
    "                    val_acc.append(batch_acc)\n",
    "                print(\"Val acc: {:.3f}\".format(np.mean(val_acc)))\n",
    "            iteration +=1\n",
    "    saver.save(sess, \"checkpoints/sentiment.ckpt\")"
   ]
  },
  {
   "cell_type": "markdown",
   "metadata": {
    "deletable": true,
    "editable": true
   },
   "source": [
    "## Testing"
   ]
  },
  {
   "cell_type": "code",
   "execution_count": 39,
   "metadata": {
    "collapsed": false,
    "deletable": true,
    "editable": true
   },
   "outputs": [
    {
     "name": "stdout",
     "output_type": "stream",
     "text": [
      "Test accuracy: 0.603\n"
     ]
    }
   ],
   "source": [
    "test_acc = []\n",
    "with tf.Session(graph=graph) as sess:\n",
    "    saver.restore(sess, tf.train.latest_checkpoint('checkpoints'))\n",
    "    test_state = sess.run(cell.zero_state(batch_size, tf.float32))\n",
    "    for ii, (x, y) in enumerate(get_batches(test_x, test_y, batch_size), 1):\n",
    "        feed = {inputs_: x,\n",
    "                labels_: y[:, None],\n",
    "                keep_prob: 1,\n",
    "                initial_state: test_state}\n",
    "        batch_acc, test_state = sess.run([accuracy, final_state], feed_dict=feed)\n",
    "        test_acc.append(batch_acc)\n",
    "    print(\"Test accuracy: {:.3f}\".format(np.mean(test_acc)))"
   ]
  },
  {
   "cell_type": "code",
   "execution_count": null,
   "metadata": {
    "collapsed": true,
    "deletable": true,
    "editable": true
   },
   "outputs": [],
   "source": []
  },
  {
   "cell_type": "code",
   "execution_count": null,
   "metadata": {
    "collapsed": true,
    "deletable": true,
    "editable": true
   },
   "outputs": [],
   "source": []
  },
  {
   "cell_type": "code",
   "execution_count": null,
   "metadata": {
    "collapsed": true,
    "deletable": true,
    "editable": true
   },
   "outputs": [],
   "source": []
  }
 ],
 "metadata": {
  "kernelspec": {
   "display_name": "Python 3",
   "language": "python",
   "name": "python3"
  },
  "language_info": {
   "codemirror_mode": {
    "name": "ipython",
    "version": 3
   },
   "file_extension": ".py",
   "mimetype": "text/x-python",
   "name": "python",
   "nbconvert_exporter": "python",
   "pygments_lexer": "ipython3",
   "version": "3.5.3"
  }
 },
 "nbformat": 4,
 "nbformat_minor": 2
}
